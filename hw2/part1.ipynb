{
 "cells": [
  {
   "cell_type": "markdown",
   "id": "3226342b",
   "metadata": {},
   "source": [
    "# CSCI 5622: Machine Learning\n",
    "## Fall 2023\n",
    "### Instructor: Daniel Acuna, Associate Professor, Department of Computer Science, University of Colorado at Boulder"
   ]
  },
  {
   "cell_type": "markdown",
   "id": "73c3eab8",
   "metadata": {},
   "source": [
    "Before you turn this problem in, make sure everything runs as expected. First, **restart the kernel** (in the menubar, select Kernel$\\rightarrow$Restart) and then **run all cells** (in the menubar, select Cell$\\rightarrow$Run All).\n",
    "\n",
    "Make sure you fill in any place that says `YOUR CODE HERE` or \"YOUR ANSWER HERE\", as well as your name and collaborators below:"
   ]
  },
  {
   "cell_type": "code",
   "execution_count": 1,
   "id": "818d0b2b",
   "metadata": {},
   "outputs": [],
   "source": [
    "NAME = \"Luk Letif\"\n",
    "COLLABORATORS = \"\""
   ]
  },
  {
   "cell_type": "markdown",
   "id": "e6ea1645",
   "metadata": {},
   "source": [
    "---"
   ]
  },
  {
   "cell_type": "code",
   "execution_count": 2,
   "id": "0303d5a1-96bd-4baf-bc7c-86572d7596b0",
   "metadata": {
    "deletable": false,
    "editable": false,
    "nbgrader": {
     "cell_type": "code",
     "checksum": "a3404bd56d3fda24286aab56807d28dd",
     "grade": false,
     "grade_id": "cell-a05ccabca6f911cc",
     "locked": true,
     "schema_version": 3,
     "solution": false,
     "task": false
    }
   },
   "outputs": [],
   "source": [
    "# Necessary imports\n",
    "import matplotlib.pyplot as plt\n",
    "import numpy as np\n",
    "import sklearn"
   ]
  },
  {
   "cell_type": "code",
   "execution_count": 3,
   "id": "a20a8376-fe74-47ff-b0ca-d7b719908492",
   "metadata": {
    "deletable": false,
    "editable": false,
    "nbgrader": {
     "cell_type": "code",
     "checksum": "67ea331d6f07f9b4767675aff00996bd",
     "grade": false,
     "grade_id": "cell-42bf5f824c2bb681",
     "locked": true,
     "schema_version": 3,
     "solution": false,
     "task": false
    }
   },
   "outputs": [],
   "source": [
    "from sklearn.datasets import load_breast_cancer\n",
    "X = load_breast_cancer()['data']\n",
    "y = load_breast_cancer()['target']"
   ]
  },
  {
   "cell_type": "code",
   "execution_count": 4,
   "id": "557be2a8-8fd7-426e-ba2d-8bbd061eb5cc",
   "metadata": {
    "deletable": false,
    "editable": false,
    "nbgrader": {
     "cell_type": "code",
     "checksum": "fd2673d05f27dd3c96d0b57b81438f25",
     "grade": false,
     "grade_id": "cell-ee92b46718beabc2",
     "locked": true,
     "schema_version": 3,
     "solution": false,
     "task": false
    }
   },
   "outputs": [],
   "source": [
    "from sklearn.model_selection import train_test_split\n",
    "\n",
    "# Splitting the dataset into training and testing sets\n",
    "X_train, X_test, y_train, y_test = train_test_split(X, y, test_size=0.5, random_state=42)"
   ]
  },
  {
   "cell_type": "markdown",
   "id": "5575ea42-7e1d-4526-aca4-b9eb76439de6",
   "metadata": {},
   "source": [
    "# Part 1: (45 pts) Entropy, information gain"
   ]
  },
  {
   "cell_type": "markdown",
   "id": "e9bb8a4b-b789-4972-b6d0-698cc2b6de86",
   "metadata": {},
   "source": [
    "For all the questions in this part, consider that the features are binary and the label is binary as well."
   ]
  },
  {
   "cell_type": "markdown",
   "id": "c5ea32ec-8c93-4c15-90d5-bd434a1f5517",
   "metadata": {},
   "source": [
    "### (5 pts) Question 1: Entropy\n",
    "\n",
    "Entropy is a measure of the impurity or disorder of a dataset. For a binary classification problem, the entropy of a dataset $ D $ is given by:\n",
    "\n",
    "$$\n",
    "H(D) = - p_+ \\log_2 p_+ - p_- \\log_2 p_-\n",
    "$$\n",
    "\n",
    "Where:\n",
    "- $ p_+ $ is the proportion of positive examples in $ D $.\n",
    "- $ p_- $ is the proportion of negative examples in $ D $.\n",
    "\n",
    "If $ p_+ $ or $ p_- $ is $ 0 $, their respective term in the equation is considered to be $ 0 $ (since the logarithm of $ 0 $ is undefined).\n",
    "\n",
    "**Task:**\n",
    "\n",
    "Your task is to implement the entropy function based on the provided formula. Make sure to handle the edge cases where $ p_+ $ or $ p_- $ are $ 0 $.\n",
    "\n",
    "- Hint: Sometimes, you need to accept an empty set (`len(target) == 0`), and you should return 0 entropy"
   ]
  },
  {
   "cell_type": "code",
   "execution_count": 5,
   "id": "7516c337-6590-4a44-a5dd-0a107c9deb3a",
   "metadata": {
    "deletable": false,
    "nbgrader": {
     "cell_type": "code",
     "checksum": "c3725618904aab86fb7520a75fc2edfe",
     "grade": false,
     "grade_id": "cell-7f0a98b07e361d36",
     "locked": false,
     "schema_version": 3,
     "solution": true,
     "task": false
    }
   },
   "outputs": [],
   "source": [
    "def entropy(target: np.ndarray) -> float:\n",
    "    \"\"\"\n",
    "    Compute the entropy of a dataset.\n",
    "    \n",
    "    Parameters:\n",
    "    - target: A 1D numpy array of shape (n_samples,) containing the binary target values (0 or 1).\n",
    "    \n",
    "    Returns:\n",
    "    - H: A float representing the entropy of the dataset.\n",
    "    \"\"\"\n",
    "    \n",
    "    # YOUR CODE HERE\n",
    "    # you need to accept an empty set (`len(target) == 0`), and you should return 0 entropy\n",
    "    if len(target) == 0:\n",
    "        return 0\n",
    "    \n",
    "    # - $ p_+ $ is the proportion of positive examples in $ D $.\n",
    "    p_plus = np.sum(target)/len(target)\n",
    "    p_minus = 1 - p_plus\n",
    "    \n",
    "    # If $ p_+ $ or $ p_- $ is $ 0 $, their respective term in\n",
    "    #the equation is considered to be $ 0 $ (since the logarithm of $ 0 $ is undefined).\n",
    "    if p_plus != 0:\n",
    "        first_term  =  -p_plus * np.log2(p_plus)\n",
    "    else:\n",
    "        first_term = 0\n",
    "\n",
    "    if p_minus != 0:\n",
    "        second_term  =  -p_minus * np.log2(p_minus)\n",
    "    else:\n",
    "        second_term = 0\n",
    "    # raise NotImplementedError()\n",
    "    #H(D) = - p_+ \\log_2 p_+ - p_- \\log_2 p_-\n",
    "    H  = first_term + second_term\n",
    "    return H"
   ]
  },
  {
   "cell_type": "code",
   "execution_count": 6,
   "id": "5840aef9-4984-4c1c-94ef-b3ed21b5d222",
   "metadata": {},
   "outputs": [
    {
     "data": {
      "text/plain": [
       "0.9182958340544896"
      ]
     },
     "execution_count": 6,
     "metadata": {},
     "output_type": "execute_result"
    }
   ],
   "source": [
    "# some examples\n",
    "entropy(np.array([0, 1, 1]))"
   ]
  },
  {
   "cell_type": "code",
   "execution_count": 7,
   "id": "da502424-e7e5-46f2-922c-481097fe58e4",
   "metadata": {},
   "outputs": [
    {
     "data": {
      "text/plain": [
       "0.0"
      ]
     },
     "execution_count": 7,
     "metadata": {},
     "output_type": "execute_result"
    }
   ],
   "source": [
    "entropy(np.array([0]))"
   ]
  },
  {
   "cell_type": "code",
   "execution_count": 8,
   "id": "ba77ca2e-fefd-4f0c-95be-b6a63379f5d8",
   "metadata": {
    "deletable": false,
    "editable": false,
    "nbgrader": {
     "cell_type": "code",
     "checksum": "1346b871e20099a09f8bcca71ca598a7",
     "grade": true,
     "grade_id": "cell-a9ce770436c346b7",
     "locked": true,
     "points": 5,
     "schema_version": 3,
     "solution": false,
     "task": false
    }
   },
   "outputs": [],
   "source": [
    "# Test with a balanced dataset\n",
    "y_test_1 = np.array([0, 1, 0, 1])\n",
    "assert np.isclose(entropy(y_test_1), 1.0, atol=1e-5), \"Test Case 1 Failed\"\n",
    "# Test with all negative examples\n",
    "y_test_2 = np.array([0, 0, 0, 0])\n",
    "assert np.isclose(entropy(y_test_2), 0.0, atol=1e-5), \"Test Case 2 Failed\"\n",
    "# Test with all positive examples\n",
    "y_test_3 = np.array([1, 1, 1, 1])\n",
    "assert np.isclose(entropy(y_test_3), 0.0, atol=1e-5), \"Test Case 3 Failed\""
   ]
  },
  {
   "cell_type": "markdown",
   "id": "d936ded8-59c0-4936-8b90-8bdd7443165f",
   "metadata": {},
   "source": [
    "## (10 pts) Question 2: Information Gain\n",
    "\n",
    "Information Gain (IG) is a measure of the effectiveness of an attribute in classifying the training data. It calculates the difference between the entropy of the dataset before the split and the weighted entropy of each branch after the split. The formula for computing IG is given by:\n",
    "\n",
    "$$\n",
    "IG(D, A) = H(D) - \\sum_{v \\in A} \\left( \\frac{|D_v|}{|D|} \\times H(D_v) \\right)\n",
    "$$\n",
    "\n",
    "Where:\n",
    "- $ H(D) $ is the entropy of the dataset.\n",
    "- $ A $ is the attribute or feature column we're considering.\n",
    "- $ D_v $ is the subset of data for which attribute $ A $ has value $ v $.\n",
    "- $ |D_v| $ is the number of samples in $ D_v $.\n",
    "- $ |D| $ is the total number of samples.\n",
    "\n",
    "**Task:**\n",
    "\n",
    "Write a function `information_gain` to solve the problem.\n",
    "\n",
    "Hint:\n",
    "1. Start by computing the entropy of the dataset before the split.\n",
    "2. Next, compute the weighted entropy of each branch after the split based on the feature column $x_j \\leq v$ \n",
    "3. Return the difference between the initial entropy and the weighted sum of branch entropies."
   ]
  },
  {
   "cell_type": "code",
   "execution_count": 9,
   "id": "4490a415-d044-423e-9c84-bbc14e5b283f",
   "metadata": {
    "deletable": false,
    "nbgrader": {
     "cell_type": "code",
     "checksum": "94fb5ed29f21f15ae67429395c72fa53",
     "grade": false,
     "grade_id": "cell-6faa057efca41ff7",
     "locked": false,
     "schema_version": 3,
     "solution": true,
     "task": false
    }
   },
   "outputs": [],
   "source": [
    "def information_gain(X: np.ndarray, y: np.ndarray, j: int, v: float) -> float:\n",
    "    \"\"\"\n",
    "    Compute the information gain of splitting the data based on feature column j.\n",
    "    \n",
    "    Parameters:\n",
    "    - X: A 2D numpy array of shape (n_samples, n_features) containing the features\n",
    "    - y: A 1D numpy array of shape (n_samples,) containing the binary target values (0 or 1).\n",
    "    - j: An integer representing the target feature column index (0-indexed).\n",
    "    - v: A floating point containing the value by which this column will be split\n",
    "    \n",
    "    Returns:\n",
    "    - IG: A float representing the information gain of the split based on feature column j.\n",
    "    \"\"\"    \n",
    "    # YOUR CODE HERE\n",
    "    #$ H(D) $ is the entropy of the dataset.\n",
    "    H_D = entropy(y)\n",
    "    # floating point containing the value by which this column will be split\n",
    "    D_v_left = y[np.where(X[:, j] <= v)] \n",
    "    D_v_tight = y[np.where(X[:, j] > v)]\n",
    "\n",
    "    #IG(D, A) = H(D) - \\sum_{v \\in A} \\left( \\frac{|D_v|}{|D|} \\times H(D_v) \\right)\n",
    "    entropy_sum  = (len(D_v_left)/len(y))*entropy(D_v_left) + (len(D_v_tight)/len(y))*entropy(D_v_tight)\n",
    "    IG = H_D - entropy_sum\n",
    "    # raise NotImplementedError()\n",
    "    \n",
    "    return IG"
   ]
  },
  {
   "cell_type": "code",
   "execution_count": 10,
   "id": "9d8fec9e-0b02-4e6b-bde0-8b04dbbcae8a",
   "metadata": {},
   "outputs": [
    {
     "data": {
      "text/plain": [
       "0.0"
      ]
     },
     "execution_count": 10,
     "metadata": {},
     "output_type": "execute_result"
    }
   ],
   "source": [
    "entropy(y_test_2)"
   ]
  },
  {
   "cell_type": "code",
   "execution_count": 11,
   "id": "9dfc89bb-a5bc-44d4-8144-0d90b2402b29",
   "metadata": {},
   "outputs": [
    {
     "data": {
      "text/plain": [
       "0.9182958340544896"
      ]
     },
     "execution_count": 11,
     "metadata": {},
     "output_type": "execute_result"
    }
   ],
   "source": [
    "# try your function here\n",
    "entropy(np.array([0, 1, 1]))"
   ]
  },
  {
   "cell_type": "code",
   "execution_count": 12,
   "id": "ad352ea5-2694-4dab-a500-c3aa2eb4bf16",
   "metadata": {
    "deletable": false,
    "editable": false,
    "nbgrader": {
     "cell_type": "code",
     "checksum": "9fad0bd08429bdaa17a74a631a61fb9e",
     "grade": true,
     "grade_id": "cell-6d36fe1ad1e52f2f",
     "locked": true,
     "points": 10,
     "schema_version": 3,
     "solution": false,
     "task": false
    }
   },
   "outputs": [],
   "source": [
    "\"\"\" (10 pts) \"\"\"\n",
    "# Test Case 1: Binary Feature\n",
    "X_test_1 = np.array([\n",
    "    [0, 1],\n",
    "    [1, 0],\n",
    "    [1, 1],\n",
    "    [0, 0]\n",
    "])\n",
    "y_test_1 = np.array([0, 1, 0, 1])\n",
    "# Given that the threshold doesn't matter for binary features, we can still provide one\n",
    "assert np.isclose(information_gain(X_test_1, y_test_1, 1, 0.5), 1.0, atol=1e-5), \"Test Case 1 Failed\"\n",
    "\n",
    "# Test Case 2: Continuous Feature\n",
    "X_test_2 = np.array([\n",
    "    [0.5, 1.5],\n",
    "    [1.5, 0.5],\n",
    "    [2.5, 1.5],\n",
    "    [0.5, 0.5]\n",
    "])\n",
    "y_test_2 = np.array([0, 1, 0, 1])\n",
    "# Here, the threshold matters; we're checking the information gain when the split is made at 1.0 for feature 1\n",
    "assert np.isclose(information_gain(X_test_2, y_test_2, 1, 1.0), 1.0, atol=1e-5), \"Test Case 2 Failed\"\n",
    "\n",
    "# Test Case 3: Another Continuous Feature\n",
    "X_test_3 = np.array([\n",
    "    [0.5, 1.5, 2.5],\n",
    "    [1.5, 0.5, 2.5],\n",
    "    [2.5, 1.5, 1.5],\n",
    "    [0.5, 0.5, 0.5]\n",
    "])\n",
    "y_test_3 = np.array([0, 1, 0, 1])\n",
    "# Checking the information gain for a split made at 2.0 for feature 2\n",
    "expected_IG_3 = 0.31127812445913283\n",
    "assert np.isclose(information_gain(X_test_3, y_test_3, 2, 1.0), expected_IG_3, atol=1e-5), \"Test Case 3 Failed\""
   ]
  },
  {
   "attachments": {},
   "cell_type": "markdown",
   "id": "b31feb6d-4829-4f1d-a6bd-59b22d18191d",
   "metadata": {},
   "source": [
    "### (10 pts) Question 3: Create a Function Representing a \"Decision Stump\"\n",
    "\n",
    "A decision stump is a decision tree with just one split. It makes a decision based on whether a feature \\(j\\) is less than or equal to a value \\(v\\), and returns a specified value if the condition is met.\n",
    "\n",
    "**Task:**\n",
    "\n",
    "Write a function `create_decision_stump` with the following signature:\n",
    "\n",
    "```python\n",
    "def create_decision_stump(j: int, threshold: float, return_value: int) -> Callable[[np.ndarray], np.ndarray]:\n",
    "    \"\"\"\n",
    "    Create a decision stump based on feature column j, a threshold value, and a specified return value if \n",
    "    the condition is met.\n",
    "    \n",
    "    Parameters:\n",
    "    - j: An integer representing the feature column index (0-indexed) to base the decision on.\n",
    "    - threshold: A float representing the threshold value to decide the split.\n",
    "    - return_value: An integer (0 or 1) to return when the feature column value is less than or equal to the threshold.\n",
    "    \n",
    "    Returns:\n",
    "    - decision_stump: A function that takes in a 2D numpy array and returns a 1D numpy array\n",
    "                      with predictions, returning the specified value if the feature column value is less than or \n",
    "                      equal to the threshold, and the opposite value otherwise.\n",
    "    \"\"\"\n",
    "    pass\n",
    "```"
   ]
  },
  {
   "cell_type": "code",
   "execution_count": 13,
   "id": "7e300a45-bfe9-4f9a-b080-3496f372b0a9",
   "metadata": {
    "deletable": false,
    "nbgrader": {
     "cell_type": "code",
     "checksum": "7a4f6c0574149433c87076fcbca4002c",
     "grade": false,
     "grade_id": "cell-1690921dca462a27",
     "locked": false,
     "schema_version": 3,
     "solution": true,
     "task": false
    }
   },
   "outputs": [],
   "source": [
    "from typing import Callable\n",
    "\n",
    "def create_decision_stump(j: int, threshold: float, return_value: int) -> Callable[[np.ndarray], np.ndarray]:\n",
    "    \"\"\"\n",
    "    Create a decision stump based on feature column j, a threshold value, and a specified return value if \n",
    "    the condition is met.\n",
    "    \n",
    "    Parameters:\n",
    "    - j: An integer representing the feature column index (0-indexed) to base the decision on.\n",
    "    - threshold: A float representing the threshold value to decide the split.\n",
    "    - return_value: An integer (0 or 1) to return when the feature column value is less than or equal to the threshold.\n",
    "    \n",
    "    Returns:\n",
    "    - decision_stump: A function that takes in a 2D numpy array and returns a 1D numpy array\n",
    "                      with predictions, returning the specified value if the feature column value is less than or \n",
    "                      equal to the threshold, and the opposite value otherwise.\n",
    "    \"\"\"\n",
    "    \n",
    "    # YOUR CODE HERE\n",
    "    #A function that takes in a 2D numpy array and returns a 1D numpy array\n",
    "    # with predictions, returning the specified value if the feature column value is less than or \n",
    "    # equal to the threshold, and the opposite value otherwise.\n",
    "    def decision_stump(X: np.ndarray) -> [np.ndarray]:\n",
    "        # Check values at feature column j against the threshold\n",
    "        condition_is_met = X[:, j] <= threshold\n",
    "        \n",
    "        # returning the specified value if the feature column value is less than or \n",
    "        # equal to the threshold, and the opposite value otherwise\n",
    "        result = np.full(X.shape[0], 1 - return_value)\n",
    "        \n",
    "        # returns a specified value if the condition is met\n",
    "        result[condition_is_met] = return_value\n",
    "        \n",
    "        return result\n",
    "    # raise NotImplementedError()\n",
    "    \n",
    "    return decision_stump"
   ]
  },
  {
   "cell_type": "code",
   "execution_count": 14,
   "id": "539f2638-5ea8-4d21-a7a6-640a63707296",
   "metadata": {},
   "outputs": [
    {
     "data": {
      "text/plain": [
       "array([0, 0, 0, 0])"
      ]
     },
     "execution_count": 14,
     "metadata": {},
     "output_type": "execute_result"
    }
   ],
   "source": [
    "# try it here\n",
    "create_decision_stump(0, 0, 0)(np.array([[0, 0],[0, 0],[0, 0],[0, 0]]))"
   ]
  },
  {
   "cell_type": "code",
   "execution_count": 15,
   "id": "85e2ecda-7fed-4e0c-bfa6-3ecb44dfd0b6",
   "metadata": {
    "deletable": false,
    "editable": false,
    "nbgrader": {
     "cell_type": "code",
     "checksum": "962b2897cbeca0e192417314f7e9d1a2",
     "grade": true,
     "grade_id": "cell-67f4738a744a9dd5",
     "locked": true,
     "points": 0,
     "schema_version": 3,
     "solution": false,
     "task": false
    }
   },
   "outputs": [],
   "source": [
    "\"\"\"(10 pts) Some tests\"\"\"\n",
    "# Test Case 1: Binary Feature\n",
    "X_test_1 = np.array([\n",
    "    [0, 1],\n",
    "    [1, 0],\n",
    "    [1, 1],\n",
    "    [0, 0]\n",
    "])\n",
    "# Here, we expect all values less than or equal to 0 to be classified as 1, and others as 0\n",
    "stump_1 = create_decision_stump(0, 0, 1)\n",
    "assert np.array_equal(stump_1(X_test_1), np.array([1, 0, 0, 1])), \"Test Case 1 Failed\"\n",
    "\n",
    "# Test Case 2: Continuous Feature\n",
    "X_test_2 = np.array([\n",
    "    [0.5, 1.5],\n",
    "    [1.5, 0.5],\n",
    "    [2.5, 1.5],\n",
    "    [0.5, 0.5]\n",
    "])\n",
    "# We're checking the predictions when the split is made at 1.0 for feature 1\n",
    "# Values less than or equal to 1.0 should be classified as 0, and others as 1\n",
    "stump_2 = create_decision_stump(1, 1.0, 0)\n",
    "assert np.array_equal(stump_2(X_test_2), np.array([1, 0, 1, 0])), \"Test Case 2 Failed\"\n",
    "\n",
    "# Test Case 3: Another Continuous Feature\n",
    "X_test_3 = np.array([\n",
    "    [0.5, 1.5, 2.5],\n",
    "    [1.5, 0.5, 2.5],\n",
    "    [2.5, 1.5, 1.5],\n",
    "    [0.5, 0.5, 0.5]\n",
    "])\n",
    "# Checking the predictions for a split made at 2.0 for feature 2\n",
    "# Values less than or equal to 2.0 should be classified as 0, and others as 1\n",
    "stump_3 = create_decision_stump(2, 2.0, 0)\n",
    "assert np.array_equal(stump_3(X_test_3), np.array([1, 1, 0, 0])), \"Test Case 3 Failed\""
   ]
  },
  {
   "cell_type": "markdown",
   "id": "5f49c0c2-3267-4a36-bfb1-815ec84c2fda",
   "metadata": {},
   "source": [
    "### (10 pts) Question 4: Best Feature to Split By\n",
    "\n",
    "Using the previously defined `information_gain` function that now takes a threshold as a parameter, your task is to find the best feature and threshold to split the data on. Specifically, you should identify the feature and threshold that provides the highest information gain when used as a decision stump.\n",
    "\n",
    "**Task:**\n",
    "\n",
    "Write a function `best_feature_to_split` with the following signature:\n",
    "\n",
    "```python\n",
    "def best_feature_to_split(X: np.ndarray, y: np.ndarray) -> Tuple[int, float]:\n",
    "    \"\"\"\n",
    "    Identify the best feature and threshold to split the dataset on based on information gain.\n",
    "    \n",
    "    Parameters:\n",
    "    - X: A 2D numpy array of shape (n_samples, n_features) containing the features.\n",
    "    - y: A 1D numpy array of shape (n_samples,) containing the binary target values (0 or 1).\n",
    "    \n",
    "    Returns:\n",
    "    - j_best: An integer representing the index (0-indexed) of the best feature column to split on.\n",
    "    - v_best: A float representing the best threshold to split the feature by.\n",
    "    \"\"\"\n",
    "    pass\n",
    "```"
   ]
  },
  {
   "cell_type": "code",
   "execution_count": 16,
   "id": "3abb37a9-7938-4d74-9658-7069a517f57c",
   "metadata": {
    "deletable": false,
    "nbgrader": {
     "cell_type": "code",
     "checksum": "92a59d3038ba8ed11fc753c50abbb3d2",
     "grade": false,
     "grade_id": "cell-dc6d3397133b0bf7",
     "locked": false,
     "schema_version": 3,
     "solution": true,
     "task": false
    }
   },
   "outputs": [],
   "source": [
    "from typing import Tuple\n",
    "\n",
    "def best_feature_to_split(X: np.ndarray, y: np.ndarray) -> Tuple[int, float]:\n",
    "    \"\"\"\n",
    "    Identify the best feature and threshold to split the dataset on based on information gain.\n",
    "    \n",
    "    Parameters:\n",
    "    - X: A 2D numpy array of shape (n_samples, n_features) containing the features.\n",
    "    - y: A 1D numpy array of shape (n_samples,) containing the binary target values (0 or 1).\n",
    "    \n",
    "    Returns:\n",
    "    - j_best: An integer representing the index (0-indexed) of the best feature column to split on.\n",
    "    - v_best: A float representing the best threshold to split the feature by.\n",
    "    \"\"\"\n",
    "    \n",
    "    # YOUR CODE HERE\n",
    "    #initialize\n",
    "    best_ig, j_best, v_best = 0, 0, 0\n",
    "    # Iterate X: A 2D numpy array of shape (n_samples, n_features) containing the features.\n",
    "    for j in range(X.shape[1]):\n",
    "        \n",
    "        # Iterate over thresholds to Identify the best feature and threshold to split the dataset on based on information gain\n",
    "        for v in np.unique(X[:, j]):\n",
    "            \n",
    "            # Information Gain on feature j at threshold v\n",
    "            IG = information_gain(X, y, j, v)\n",
    "            \n",
    "            # Update Information Gain\n",
    "            if IG > best_ig:\n",
    "                best_ig = IG\n",
    "                j_best, v_best = j, v\n",
    "    # raise NotImplementedError()\n",
    "    \n",
    "    return j_best, v_best"
   ]
  },
  {
   "cell_type": "code",
   "execution_count": 17,
   "id": "fdd97882-c6ce-4491-8c37-4f44c2356480",
   "metadata": {},
   "outputs": [
    {
     "data": {
      "text/plain": [
       "(0, 0)"
      ]
     },
     "execution_count": 17,
     "metadata": {},
     "output_type": "execute_result"
    }
   ],
   "source": [
    "# try it here\n",
    "best_feature_to_split((np.array([[0, 0],[0, 0],[0, 0],[0, 0]])),np.array([0, 0, 0, 0]))"
   ]
  },
  {
   "cell_type": "code",
   "execution_count": 18,
   "id": "7fd7abd4-9372-4d11-89f8-320161d6f872",
   "metadata": {
    "deletable": false,
    "editable": false,
    "nbgrader": {
     "cell_type": "code",
     "checksum": "29c6f2863f1ec957f3f870783a711b1a",
     "grade": true,
     "grade_id": "cell-8d53364adc0cb1dc",
     "locked": true,
     "points": 0,
     "schema_version": 3,
     "solution": false,
     "task": false
    }
   },
   "outputs": [],
   "source": [
    "\"\"\" (10 pts)  \"\"\"\n",
    "# Test Case 1: Basic Test with Binary Features\n",
    "X_test_1 = np.array([\n",
    "    [0, 1],\n",
    "    [1, 0],\n",
    "    [1, 1],\n",
    "    [0, 0]\n",
    "])\n",
    "y_test_1 = np.array([0, 1, 0, 1])\n",
    "best_feature_1, best_threshold_1 = best_feature_to_split(X_test_1, y_test_1)\n",
    "# Either feature provides no information gain as both have an equal number of 0s and 1s\n",
    "# The threshold doesn't matter for binary features\n",
    "assert best_threshold_1 in [0, 1], \"Test Case 1 Failed\"\n",
    "\n",
    "# Test Case 2: Continuous Features\n",
    "X_test_2 = np.array([\n",
    "    [0.5, 1.5],\n",
    "    [1.5, 0.5],\n",
    "    [2.5, 1.5],\n",
    "    [0.5, 0.5]\n",
    "])\n",
    "y_test_2 = np.array([0, 1, 0, 1])\n",
    "best_feature_2, best_threshold_2 = best_feature_to_split(X_test_2, y_test_2)\n",
    "# The second feature provides the maximum information gain when split at 1.0\n",
    "assert best_feature_2 == 1 and np.isclose(best_threshold_2, 0.5, atol=1e-5), \"Test Case 2 Failed\"\n",
    "\n",
    "# Test Case 3: Mixed Binary and Continuous Features\n",
    "X_test_3 = np.array([\n",
    "    [1, 0.5],\n",
    "    [0, 1.5],\n",
    "    [0, 0.5],\n",
    "    [1, 2.5]\n",
    "])\n",
    "y_test_3 = np.array([1, 0, 1, 0])\n",
    "best_feature_3, best_threshold_3 = best_feature_to_split(X_test_3, y_test_3)\n",
    "# The second feature provides the maximum information gain when split at 1.5\n",
    "assert best_feature_3 == 1 and np.isclose(best_threshold_3, 0.5, atol=1e-5), \"Test Case 3 Failed\""
   ]
  },
  {
   "cell_type": "markdown",
   "id": "25f4e9c2-5d4e-44fd-8421-fc5be7f5d28b",
   "metadata": {},
   "source": [
    "### Question 5: (10 pts) Fitting a Decision Stump with a Threshold\n",
    "\n",
    "Now that you have the tools to identify the best feature and threshold to split on, and to create a decision stump based on a given feature and threshold, your task is to combine these tools to fit a decision stump to a given dataset.\n",
    "\n",
    "**Task:**\n",
    "\n",
    "Write a function `fit_decision_stump` with the following signature:\n",
    "\n",
    "```python\n",
    "def fit_decision_stump(X: np.ndarray, y: np.ndarray) -> Callable[[np.ndarray], np.ndarray]:\n",
    "    \"\"\"\n",
    "    Fit a decision stump to the dataset and return the stump function, considering the best threshold for the split.\n",
    "    \n",
    "    Parameters:\n",
    "    - X: A 2D numpy array of shape (n_samples, n_features) containing the features.\n",
    "    - y: A 1D numpy array of shape (n_samples,) containing the binary target values (0 or 1).\n",
    "    \n",
    "    Returns:\n",
    "    - stump: A function that takes in a 2D numpy array and returns a 1D numpy array\n",
    "             with predictions based on the best feature and threshold split.\n",
    "    \"\"\"\n",
    "    pass\n",
    "```\n",
    "\n",
    "Use the `best_feature_to_split` function to determine the best feature and threshold to split on. Then, use the `create_decision_stump` function to create the decision stump based on that feature and threshold. The returned `stump` function should be callable with a 2D numpy array (the dataset) and should return a 1D numpy array with the predictions."
   ]
  },
  {
   "cell_type": "code",
   "execution_count": 19,
   "id": "e19e4de2-63f3-414b-9b67-16d82c6b425c",
   "metadata": {
    "deletable": false,
    "nbgrader": {
     "cell_type": "code",
     "checksum": "6a103864a589e59608c49a3d7f4861ba",
     "grade": false,
     "grade_id": "cell-5203353f59f8440f",
     "locked": false,
     "schema_version": 3,
     "solution": true,
     "task": false
    }
   },
   "outputs": [],
   "source": [
    "from scipy.stats import mode\n",
    "\n",
    "def fit_decision_stump(X: np.ndarray, y: np.ndarray) -> Callable[[np.ndarray], np.ndarray]:\n",
    "    \"\"\"\n",
    "    Fit a decision stump to the dataset and return the stump function, considering the best threshold for the split.\n",
    "    \n",
    "    Parameters:\n",
    "    - X: A 2D numpy array of shape (n_samples, n_features) containing the features.\n",
    "    - y: A 1D numpy array of shape (n_samples,) containing the binary target values (0 or 1).\n",
    "    \n",
    "    Returns:\n",
    "    - stump: A function that takes in a 2D numpy array and returns a 1D numpy array\n",
    "             with predictions based on the best feature and threshold split.\n",
    "    \"\"\"\n",
    "    \n",
    "    # YOUR CODE HERE\n",
    "    # Use the `best_feature_to_split` function to determine the best feature and threshold to split on\n",
    "    j_best, v_best = best_feature_to_split(X, y)\n",
    "    \n",
    "    # best threshold for the split where the feature value is less than or equal to the threshold\n",
    "    return_value = mode(y[np.where(X[:, j_best] <= v_best)]).mode  #TODO: IndexError: invalid index to scalar variable.\n",
    "\n",
    "    \n",
    "    # use the `create_decision_stump` function to create the decision stump based on that feature and threshold\n",
    "    stump = create_decision_stump(j_best, v_best, return_value)\n",
    "    \n",
    "    return stump"
   ]
  },
  {
   "cell_type": "code",
   "execution_count": 20,
   "id": "d3802530-34e6-4ca5-a85c-3a1e27a85ade",
   "metadata": {},
   "outputs": [
    {
     "data": {
      "text/plain": [
       "(27, 0.1465)"
      ]
     },
     "execution_count": 20,
     "metadata": {},
     "output_type": "execute_result"
    }
   ],
   "source": [
    "# try it here\n",
    "best_feature_to_split(X_train, y_train)"
   ]
  },
  {
   "cell_type": "code",
   "execution_count": 21,
   "id": "3d8951a6-e88b-46d5-a25e-c745428880be",
   "metadata": {
    "deletable": false,
    "editable": false,
    "nbgrader": {
     "cell_type": "code",
     "checksum": "b2bad7ae90a8fe9a6206bf48f0458421",
     "grade": true,
     "grade_id": "cell-8faa788386035e92",
     "locked": true,
     "points": 10,
     "schema_version": 3,
     "solution": false,
     "task": false
    }
   },
   "outputs": [],
   "source": [
    "\"\"\" (20 pts) tests\"\"\"\n",
    "# Test Case 1: Binary Features\n",
    "X_test_1 = np.array([\n",
    "    [0, 1],\n",
    "    [1, 0],\n",
    "    [1, 1],\n",
    "    [0, 0]\n",
    "])\n",
    "y_test_1 = np.array([0, 1, 0, 1])\n",
    "stump_1 = fit_decision_stump(X_test_1, y_test_1)\n",
    "# Since both features are equally good for splitting (information gain is 0 for both),\n",
    "# it can choose either, and the threshold doesn't matter for binary features\n",
    "predictions_1 = stump_1(X_test_1)\n",
    "assert np.array_equal(predictions_1, y_test_1) or np.array_equal(predictions_1, 1 - y_test_1), \"Test Case 1 Failed\"\n",
    "\n",
    "# Test Case 2: Continuous Features\n",
    "X_test_2 = np.array([\n",
    "    [0.5, 1.5],\n",
    "    [1.5, 0.5],\n",
    "    [2.5, 1.5],\n",
    "    [0.5, 0.5]\n",
    "])\n",
    "y_test_2 = np.array([0, 1, 0, 1])\n",
    "stump_2 = fit_decision_stump(X_test_2, y_test_2)\n",
    "# The best split is at feature 1 with threshold 1.0\n",
    "# Values <= 1.0 are classified as 1, and others as 0\n",
    "assert np.array_equal(stump_2(X_test_2), np.array([0, 1, 0, 1])), \"Test Case 2 Failed\"\n",
    "\n",
    "# Test Case 3: Mixed Binary and Continuous Features\n",
    "X_test_3 = np.array([\n",
    "    [1, 0.5],\n",
    "    [0, 1.5],\n",
    "    [0, 0.5],\n",
    "    [1, 2.5]\n",
    "])\n",
    "y_test_3 = np.array([1, 0, 1, 0])\n",
    "stump_3 = fit_decision_stump(X_test_3, y_test_3)\n",
    "# The best split is at feature 1 with threshold 1.5\n",
    "# Values <= 1.5 are classified as 1, and others as 0\n",
    "assert np.array_equal(stump_3(X_test_3), np.array([1, 0, 1, 0])), \"Test Case 3 Failed\""
   ]
  },
  {
   "cell_type": "markdown",
   "id": "bc271f7d-c2e2-4dc4-b467-3a17583b132f",
   "metadata": {},
   "source": [
    "#### Question 5.1: (5 pts) Estimate the performance of decision stump\n",
    "\n",
    "Use the `X_train` and `y_train` data to fit your decision stump and call it `model0`. Estimate the performance of the model on the testing data and store it in `accuracy0`."
   ]
  },
  {
   "cell_type": "code",
   "execution_count": 22,
   "id": "95f84d74-45b1-4f6c-9535-b710836676c3",
   "metadata": {
    "deletable": false,
    "nbgrader": {
     "cell_type": "code",
     "checksum": "4887727bb15955870ec53f8f196fe22b",
     "grade": false,
     "grade_id": "cell-23f27e00aba769e1",
     "locked": false,
     "schema_version": 3,
     "solution": true,
     "task": false
    }
   },
   "outputs": [
    {
     "name": "stdout",
     "output_type": "stream",
     "text": [
      "Accuracy of decision stump 0.9087719298245615 vs. accuracy of majority vote model 0.656140350877193\n"
     ]
    }
   ],
   "source": [
    "# YOUR CODE HERE\n",
    "from sklearn.metrics import accuracy_score\n",
    "\n",
    "# raise NotImplementedError()\n",
    "model0 = fit_decision_stump(X_train, y_train)\n",
    "accuracy0 = accuracy_score(y_test, model0(X_test))\n",
    "print(f\"Accuracy of decision stump {accuracy0} vs. accuracy of majority vote model {((np.mean(y_test)**(np.mean(y_test) > 0.5))*((1-np.mean(y_test))**(np.mean(y_test) <= 0.5)))}\")"
   ]
  },
  {
   "cell_type": "code",
   "execution_count": 23,
   "id": "da16fcf6-f67d-4ab8-825d-e449c8ef459d",
   "metadata": {
    "deletable": false,
    "editable": false,
    "nbgrader": {
     "cell_type": "code",
     "checksum": "c8e4c0b8194a74c3e3dd0e4e7b4d02d7",
     "grade": true,
     "grade_id": "cell-4ccd2817ec6cf47e",
     "locked": true,
     "points": 5,
     "schema_version": 3,
     "solution": false,
     "task": false
    }
   },
   "outputs": [],
   "source": [
    "\"\"\" (5 pts) \"\"\"\n",
    "assert accuracy0 > 0.7\n",
    "assert callable(model0)"
   ]
  },
  {
   "cell_type": "markdown",
   "id": "d0c87baa-8f66-47c5-9f4c-6398819f158b",
   "metadata": {},
   "source": [
    "### Question 6: (5 pts) Majority vote of set of stumps\n",
    "\n",
    "Create a function that  take in a list of decision stumps and returns a function that produces the majority vote of the stumps"
   ]
  },
  {
   "cell_type": "code",
   "execution_count": 24,
   "id": "a9c1a630-612b-45b8-b213-5e2c2d5499bd",
   "metadata": {
    "deletable": false,
    "nbgrader": {
     "cell_type": "code",
     "checksum": "69c854bf8fce1fd4b964d6f8460793f1",
     "grade": false,
     "grade_id": "cell-993dccda2bf84467",
     "locked": false,
     "schema_version": 3,
     "solution": true,
     "task": false
    }
   },
   "outputs": [],
   "source": [
    "# YOUR CODE HERE\n",
    "def majority_vote_rule(stumps: list):\n",
    "    # a function that take in a list of decision stumps\n",
    "    def prediction(X: np.ndarray) -> np.ndarray:\n",
    "        # returns a function that produces the majority vote of the stumps\n",
    "        majority_vote = mode(np.array([stump(X) for stump in stumps]), axis=0)[0].flatten()\n",
    "        \n",
    "        return majority_vote\n",
    "\n",
    "    \n",
    "    return prediction\n",
    "# raise NotImplementedError()"
   ]
  },
  {
   "cell_type": "code",
   "execution_count": 25,
   "id": "167abdac-85db-4267-8f59-062881f4d2c2",
   "metadata": {},
   "outputs": [
    {
     "name": "stdout",
     "output_type": "stream",
     "text": [
      "Dummy predictions: [1 0 0 1 1 0 0 1 0 1 1 0 1 1 1 0 1 1 1 0 1 1 0 1 1 1 1 1 1 0 1 1 1 1 1 1 1\n",
      " 1 0 1 1 0 1 1 1 1 1 1 1 1 0 0 1 1 1 1 1 0 0 1 1 0 0 1 1 1 0 0 1 1 0 0 1 0\n",
      " 1 1 1 1 1 1 1 1 1 0 1 0 0 0 1 1 1 1 1 1 1 1 0 0 1 0 0 1 0 0 1 1 1 0 0 1 0\n",
      " 1 1 0 0 0 1 1 1 0 1 1 1 0 1 0 0 1 1 0 0 0 1 1 1 0 1 1 1 0 1 0 1 1 0 1 0 0\n",
      " 1 1 0 1 1 1 1 0 0 1 1 1 1 1 1 1 1 1 1 1 1 0 0 1 1 1 1 1 1 1 1 1 1 1 1 1 0\n",
      " 0 1 1 0 1 0 1 1 1 1 1 1 1 0 1 1 1 0 1 0 0 1 1 1 1 1 1 1 1 0 1 1 1 1 1 0 1\n",
      " 0 0 1 1 0 1 1 1 1 1 1 1 1 0 0 1 1 0 1 1 1 1 0 1 0 1 1 1 1 0 1 1 0 0 1 0 1\n",
      " 0 1 0 1 1 1 1 1 1 1 0 1 1 1 0 0 1 1 0 1 0 1 1 1 1 1]\n"
     ]
    }
   ],
   "source": [
    "dummy_model = majority_vote_rule([model0, model0])\n",
    "print(f\"Dummy predictions: {dummy_model(X_test)}\")"
   ]
  },
  {
   "cell_type": "code",
   "execution_count": 26,
   "id": "a7ea6106-fafc-4ff4-b0fc-fcd02b7a98db",
   "metadata": {
    "deletable": false,
    "editable": false,
    "nbgrader": {
     "cell_type": "code",
     "checksum": "63c4942a3ec33652c51c554a378bf26b",
     "grade": true,
     "grade_id": "cell-18292be639d22949",
     "locked": true,
     "points": 5,
     "schema_version": 3,
     "solution": false,
     "task": false
    }
   },
   "outputs": [],
   "source": [
    "\"\"\" (5 pts) \"\"\"\n",
    "assert callable(majority_vote_rule([model0]))\n",
    "assert callable(majority_vote_rule([model0, model0]))\n",
    "assert callable(majority_vote_rule([model0, model0, model0]))"
   ]
  },
  {
   "cell_type": "markdown",
   "id": "3fb0b924-7f03-47d2-9ebd-5a7c4901c874",
   "metadata": {},
   "source": [
    "## Question 7: (10 pts) Tree bagging\n",
    "\n",
    "For k in [1, 20, 40, 60, 80, 100]:\n",
    "  - create $k$ bootstrap samples of the training data `X_train` and `y_train` and fit a decision tree stump.\n",
    "  - create majority vote classifier based on the set of decision stumps\n",
    "  - estimate the accuracy of the model on the testing data\n",
    "\n",
    "Plot `k` versus accuracy"
   ]
  },
  {
   "cell_type": "code",
   "execution_count": 27,
   "id": "936002bf-07b7-4b8d-ae43-6a931cabcfd3",
   "metadata": {
    "deletable": false,
    "nbgrader": {
     "cell_type": "code",
     "checksum": "455a15705cba39f5acd9319198ae6222",
     "grade": false,
     "grade_id": "cell-4c0be5b1f8432943",
     "locked": false,
     "schema_version": 3,
     "solution": true,
     "task": false
    }
   },
   "outputs": [
    {
     "name": "stdout",
     "output_type": "stream",
     "text": [
      "Fitting 1 bootstrap samples\n",
      "Fitting 20 bootstrap samples\n",
      "Fitting 40 bootstrap samples\n",
      "Fitting 60 bootstrap samples\n",
      "Fitting 80 bootstrap samples\n",
      "Fitting 100 bootstrap samples\n"
     ]
    }
   ],
   "source": [
    "from sklearn.utils import resample\n",
    "\n",
    "accuracy_list = []\n",
    "k_list = [1, 20, 40, 60, 80, 100]\n",
    "for k in k_list:\n",
    "    print(f\"Fitting {k} bootstrap samples\")\n",
    "    # YOUR CODE HERE\n",
    "    stumps = []\n",
    "    for _ in range(k):\n",
    "        # create $k$ bootstrap samples of the training data `X_train` and `y_train` and fit a decision tree stump.\n",
    "        X_sample, y_sample = resample(X_train, y_train)\n",
    "        stump = fit_decision_stump(X_sample, y_sample)\n",
    "        stumps.append(stump)\n",
    "    #create majority vote classifier based on the set of decision stumps    \n",
    "    model = majority_vote_rule(stumps)\n",
    "    # estimate the accuracy of the model on the testing data\n",
    "    accuracy = accuracy_score(y_test, model(X_test))\n",
    "    accuracy_list.append(accuracy)\n",
    "    # raise NotImplementedError()\n",
    "    "
   ]
  },
  {
   "cell_type": "code",
   "execution_count": 30,
   "id": "8b966fff-1919-497c-86d8-ecf4d1d4bfec",
   "metadata": {},
   "outputs": [
    {
     "data": {
      "text/plain": [
       "Text(0.5, 1.0, 'k versus accuracy')"
      ]
     },
     "execution_count": 30,
     "metadata": {},
     "output_type": "execute_result"
    },
    {
     "data": {
      "image/png": "[encoded data removed]",
      "text/plain": [
       "<Figure size 640x480 with 1 Axes>"
      ]
     },
     "metadata": {},
     "output_type": "display_data"
    }
   ],
   "source": [
    "plt.plot(k_list, accuracy_list)\n",
    "plt.xlabel('k')\n",
    "plt.ylabel('accuracy')\n",
    "plt.title('k versus accuracy')"
   ]
  },
  {
   "cell_type": "code",
   "execution_count": 29,
   "id": "67b0e5be-72de-44cf-9f1c-5d14e6e0b4df",
   "metadata": {
    "deletable": false,
    "editable": false,
    "nbgrader": {
     "cell_type": "code",
     "checksum": "11fc3acfbc43fdba5ebd2b3284f077bd",
     "grade": true,
     "grade_id": "cell-1078d923f4abc88c",
     "locked": true,
     "points": 10,
     "schema_version": 3,
     "solution": false,
     "task": false
    }
   },
   "outputs": [],
   "source": [
    "\"\"\" (10 pts) \"\"\"\n",
    "# Calculating the components needed for the slope formula\n",
    "n = len(k_list)\n",
    "sum_x = np.sum(k_list)\n",
    "sum_y = np.sum(accuracy_list)\n",
    "sum_xy = np.sum(np.array(k_list) * np.array(accuracy_list))\n",
    "sum_x_squared = np.sum(np.array(k_list)**2)\n",
    "\n",
    "# Calculating the slope\n",
    "m = (n * sum_xy - sum_x * sum_y) / (n * sum_x_squared - sum_x**2)\n",
    "\n",
    "# slope should at least not be negative\n",
    "assert m > -0.05"
   ]
  },
  {
   "cell_type": "code",
   "execution_count": null,
   "id": "09f64808-2464-4c0f-9505-3137638a2580",
   "metadata": {},
   "outputs": [],
   "source": []
  }
 ],
 "metadata": {
  "kernelspec": {
   "display_name": "Python 3 (ipykernel)",
   "language": "python",
   "name": "python3"
  },
  "language_info": {
   "codemirror_mode": {
    "name": "ipython",
    "version": 3
   },
   "file_extension": ".py",
   "mimetype": "text/x-python",
   "name": "python",
   "nbconvert_exporter": "python",
   "pygments_lexer": "ipython3",
   "version": "3.9.17"
  }
 },
 "nbformat": 4,
 "nbformat_minor": 5
}
