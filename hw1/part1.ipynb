{
 "cells": [
  {
   "cell_type": "markdown",
   "metadata": {},
   "source": [
    "# CSCI 5622: Machine Learning\n",
    "## Fall 2023\n",
    "### Instructor: Daniel Acuna, Associate Professor, Department of Computer Science, University of Colorado at Boulder"
   ]
  },
  {
   "cell_type": "markdown",
   "metadata": {},
   "source": [
    "Before you turn this problem in, make sure everything runs as expected. First, **restart the kernel** (in the menubar, select Kernel$\\rightarrow$Restart) and then **run all cells** (in the menubar, select Cell$\\rightarrow$Run All).\n",
    "\n",
    "Make sure you fill in any place that says `YOUR CODE HERE` or \"YOUR ANSWER HERE\", as well as your name and collaborators below:"
   ]
  },
  {
   "cell_type": "code",
   "execution_count": 1,
   "metadata": {},
   "outputs": [],
   "source": [
    "NAME = \"Luk Letif\"\n",
    "COLLABORATORS = \"\""
   ]
  },
  {
   "cell_type": "markdown",
   "metadata": {},
   "source": [
    "---"
   ]
  },
  {
   "cell_type": "code",
   "execution_count": 2,
   "metadata": {
    "deletable": false,
    "editable": false,
    "nbgrader": {
     "cell_type": "code",
     "checksum": "0fd29917687ee798f2f7e1317d1c63fa",
     "grade": false,
     "grade_id": "cell-a05ccabca6f911cc",
     "locked": true,
     "schema_version": 3,
     "solution": false,
     "task": false
    }
   },
   "outputs": [],
   "source": [
    "# Necessary imports\n",
    "import matplotlib.pyplot as plt\n",
    "import numpy as np"
   ]
  },
  {
   "cell_type": "markdown",
   "metadata": {},
   "source": [
    "# Part 1: Understanding generalization error\n",
    "## (100 points total)"
   ]
  },
  {
   "cell_type": "markdown",
   "metadata": {},
   "source": [
    "## Question 1: (20 pts) Ground truth classification function\n",
    "\n",
    "Your task is to implement a function named `f` that classifies data points based on a combined sine and cosine boundary in a 2D space. Here's the detailed specification:\n",
    "\n",
    "- The function should accept a single pair of numbers or a 2D numpy array of shape `(n_samples, 2)` where each row represents a data point in the form `[x1, x2]`.\n",
    "- The classification is determined by the function:\n",
    "$$ f(x_1, x_2) = \n",
    "\\begin{cases} \n",
    "1 & \\sin(5 \\pi x_1 x_2) + \\cos(10\\pi x_2 + 5x_1) > 0 \\\\\n",
    "0 & \\text{otherwise}\n",
    "\\end{cases}\n",
    "$$ \n",
    "- The function should return an array of labels (either 0 or 1) corresponding to the input data points.\n",
    "- The function is only defined between 0 and 1 for $x_1$ and $x_2$ (both continuous). If the user enters an input outside the range, throw an exception `Exception(\"Input from 0 to 1 only\")`.\n",
    "\n",
    "## Hints:\n",
    "- Use numpy for the majority of the solution. Use the constant `np.pi` for maximum accuracy."
   ]
  },
  {
   "cell_type": "code",
   "execution_count": 3,
   "metadata": {
    "deletable": false,
    "nbgrader": {
     "cell_type": "code",
     "checksum": "fc27aa04ff8f0901af90e1771a2f7e11",
     "grade": false,
     "grade_id": "cell-2318208a63f487ed",
     "locked": false,
     "schema_version": 3,
     "solution": true,
     "task": false
    }
   },
   "outputs": [],
   "source": [
    "def f(x):\n",
    "    \"\"\"\n",
    "    True function for classification\n",
    "    x: a single pair of numbers or a 2D numpy array of shape (n_samples, 2)\n",
    "    Returns an array of labels (0 or 1).\n",
    "    \"\"\"\n",
    "    # YOUR CODE HERE\n",
    "    x = np.asarray(x)\n",
    "\n",
    "    if x.ndim == 1:\n",
    "        #x: a single pair of numbers or a 2D numpy array of shape (n_samples, 2)\n",
    "        #if x is a single pair of numbers, convert it to a 2D numpy array\n",
    "        x = x.reshape(1, -1)\n",
    "\n",
    "    # Returns an array of labels (0 or 1) based on determined function f\n",
    "    labels = []\n",
    "    for _ in x:\n",
    "        result = np.sin(5 * np.pi * _[0] * _[1]) + np.cos(10 * np.pi * _[1] + 5 * _[0])\n",
    "        if result > 0:\n",
    "            labels.append(1)\n",
    "        else:\n",
    "            labels.append(0)\n",
    "    labels = np.array(labels)\n",
    "\n",
    "    # raise NotImplementedError()\n",
    "    if np.any(x < 0) or np.any(x > 1):\n",
    "        raise Exception(\"Input from 0 to 1 only\")\n",
    "    return labels"
   ]
  },
  {
   "cell_type": "code",
   "execution_count": 4,
   "metadata": {},
   "outputs": [
    {
     "data": {
      "text/plain": [
       "array([1])"
      ]
     },
     "execution_count": 4,
     "metadata": {},
     "output_type": "execute_result"
    }
   ],
   "source": [
    "# test your function here\n",
    "f([0,0])\n",
    "# f([[0.2, 0.5], [0.5, 0.7], [0.8, 0.9]])"
   ]
  },
  {
   "cell_type": "code",
   "execution_count": 5,
   "metadata": {
    "deletable": false,
    "editable": false,
    "nbgrader": {
     "cell_type": "code",
     "checksum": "cbbb41548483c81571f738e7ee0c524d",
     "grade": true,
     "grade_id": "cell-32851456af549f11",
     "locked": true,
     "points": 20,
     "schema_version": 3,
     "solution": false,
     "task": false
    }
   },
   "outputs": [],
   "source": [
    "\"\"\" (20 points) Check whether the function handles single vs. multiple points\"\"\"\n",
    "assert f([0.2, 0.5]) == 1 # can work with one point\n",
    "assert np.array_equal(f([[0.2, 0.5], [0.5, 0.7], [0.8, 0.9]]), np.array([1, 1, 0])) # can work with an array\n",
    "\n",
    "# should produce an exception\n",
    "try:\n",
    "    f([1.1, 0.5])  # An input with a value outside the range\n",
    "    assert False, \"The function did not raise an exception for values outside [0, 1]\"\n",
    "except Exception as e:\n",
    "    assert str(e) == \"Input from 0 to 1 only\", f\"Unexpected exception message: {e}\""
   ]
  },
  {
   "cell_type": "markdown",
   "metadata": {},
   "source": [
    "## Question 2: (10 points) Plotting Decision Boundaries\n",
    "\n",
    "In many machine learning applications, especially classification tasks, it's crucial to visualize how the classifier divides the input space. Such visualizations help in understanding the nature of the classifier, its complexity, and potential areas of misclassification.\n",
    "\n",
    "Your task is to implement the function `plot_boundary` that visualizes the decision boundary of a given classifier function in the 2D space.\n",
    "\n",
    "**Function Specification:**\n",
    "\n",
    "- The function `plot_boundary` receives a single argument `func`, which is the classifier function.\n",
    "- The classifier function `func` takes as input a single point or an array of points in the form `[x1, x2]` and returns a label (0 or 1).\n",
    "- The `plot_boundary` function should plot the decision boundary created by the classifier function over the domain $[0,1] \\times [0,1]$.\n",
    "- Your visualization should clearly show regions classified as `0` or `1` using different colors. Including a color bar can provide additional clarity.\n",
    "- Ensure that the axes are appropriately labeled as 'x1' and 'x2'.\n",
    "\n",
    "**Hints:**\n",
    "1. Use `numpy` to generate a grid of points in the 2D space.\n",
    "2. For each point in the grid, determine its label using the given classifier function.\n",
    "3. Use `matplotlib` to visualize the decision boundary. The `contourf` function can be particularly useful.\n",
    "\n",
    "**Examples:**\n",
    "\n",
    "Given a simple classifier function that classifies points based on whether \\(x1 > 0.5\\), your `plot_boundary` function should visualize a vertical decision boundary at \\(x1 = 0.5\\).\n",
    "\n",
    "```python\n",
    "plot_boundary(lambda x: x[:, 0] > 0.5)\n",
    "plt.title('x1 divider');\n",
    "```\n",
    "\n",
    "![](./fig1.png)\n",
    "\n",
    "```python\n",
    "plot_boundary(lambda x: np.sin(x[:, 0]*x[:, 1]*20) > 0)\n",
    "plt.title('weird function');\n",
    "```\n",
    "\n",
    "![](./fig2.png)"
   ]
  },
  {
   "cell_type": "code",
   "execution_count": 6,
   "metadata": {
    "deletable": false,
    "nbgrader": {
     "cell_type": "code",
     "checksum": "208d39c253e1959f89028fc3dfaee3f2",
     "grade": false,
     "grade_id": "cell-81421701bcf9b1c5",
     "locked": false,
     "schema_version": 3,
     "solution": true,
     "task": false
    }
   },
   "outputs": [],
   "source": [
    "def plot_boundary(func):\n",
    "    \"\"\"\n",
    "    Plots the decision boundary created by the function.\n",
    "    \n",
    "    func: The function that determines the label based on the input coordinates.\n",
    "    \"\"\"\n",
    "    # Use `numpy` to generate a grid of points in the 2D space.\n",
    "    x1 = np.linspace(0, 1, 100)\n",
    "    x2 = np.linspace(0, 1, 100)\n",
    "    X1, X2 = np.meshgrid(x1, x2)\n",
    "\n",
    "    # For each point in the grid, determine its label using the given classifier function.\n",
    "    coordinates = np.column_stack((X1.reshape(-1), X2.reshape(-1)))\n",
    "\n",
    "    ## Classify each point using the determined function\n",
    "    label = func(coordinates)\n",
    "    label = np.array(label).reshape(X1.shape)  # Convert list to numpy array and then reshape\n",
    "\n",
    "    # Use `matplotlib` to visualize the decision boundary. The `contourf` function can be particularly useful.\n",
    "    plt.contourf(X1, X2, label, levels=[0.0, 0.5, 1.0], cmap='RdBu', alpha=0.5)\n",
    "    plt.colorbar()\n",
    "    plt.xlabel('x1')\n",
    "    plt.ylabel('x2')\n",
    "    plt.grid(True)\n",
    "    plt.show()"
   ]
  },
  {
   "cell_type": "code",
   "execution_count": 7,
   "metadata": {
    "deletable": false,
    "nbgrader": {
     "cell_type": "code",
     "checksum": "c8e9cebf233cbbce50bba1cc42b5f5ee",
     "grade": true,
     "grade_id": "cell-22f5c73bb44a82d0",
     "locked": false,
     "points": 10,
     "schema_version": 3,
     "solution": true,
     "task": false
    }
   },
   "outputs": [],
   "source": [
    "# YOUR CODE HERE\n",
    "f = lambda x: np.sin(x[:, 0]*x[:, 1]*20) > 0\n",
    "# f = lambda x: x[:, 0] > 0.5\n",
    "# raise NotImplementedError()"
   ]
  },
  {
   "cell_type": "code",
   "execution_count": 8,
   "metadata": {},
   "outputs": [
    {
     "data": {
      "image/png": "[encoded data removed]",
      "text/plain": [
       "<Figure size 640x480 with 2 Axes>"
      ]
     },
     "metadata": {},
     "output_type": "display_data"
    }
   ],
   "source": [
    "# plot your function here\n",
    "plot_boundary(f)"
   ]
  },
  {
   "cell_type": "markdown",
   "metadata": {},
   "source": [
    "## Question 3: (30 points) Majority Vote Classifier\n",
    "\n",
    "In many machine learning tasks, especially when data is scarce or noisy, it's helpful to rely on simple, interpretable models. One such approach is the majority vote classifier that partitions the input space into small regions and assigns a label based on the majority vote of training examples in that region.\n",
    "\n",
    "Your task is to implement the `majority_vote_classifier` function that creates such a classifier.\n",
    "\n",
    "**Function Specification:**\n",
    "\n",
    "- The function `majority_vote_classifier` takes in two arguments:\n",
    "  - `x`: The training data, a 2D numpy array of shape `(n_samples, 2)`. Each row represents a data point in the form `[x1, x2]`.\n",
    "  - `y`: The labels for the training data, a 1D numpy array of shape `(n_samples,)`. Each label is either `0` or `1`.\n",
    "\n",
    "- The input space is divided into a grid of squares, each of size $0.1 \\times 0.1$, ranging from 0 to 1 for both $x_1$ and $x_2$.\n",
    "\n",
    "- For each square in the grid, determine the label (0 or 1) that appears most frequently in the training data for points that fall into that square. In case of a tie or no data, the square should default to a label of `1`.\n",
    "\n",
    "- The function should return a new function (a classifier) that, given a new data point or an array of data points, returns the predicted label(s) based on the majority vote in the corresponding grid square(s).\n",
    "\n",
    "**Hints:**\n",
    "\n",
    "1. Start by initializing a grid to store the majority vote for each square. You can use a numpy array of shape `(10, 10)` for this purpose.\n",
    "2. For each square in the grid, determine its boundaries, and identify the training points that fall within these boundaries.\n",
    "3. Compute the majority label for the points within each square and store it in the grid.\n",
    "4. The returned classifier function should be able to handle both single data points and arrays of data points.\n",
    "\n",
    "**Examples:**\n",
    "\n",
    "1. Suppose the training data consists of three points: `[[0.05, 0.05], [0.15, 0.15], [0.85, 0.85]]` with labels `[0, 1, 0]`. If a new data point `[0.12, 0.14]` is passed to the classifier, it should return the label `1` based on the majority vote of the training data in the corresponding grid square."
   ]
  },
  {
   "cell_type": "code",
   "execution_count": 9,
   "metadata": {},
   "outputs": [],
   "source": [
    "def majority_vote_classifier(x, y):\n",
    "    \"\"\"\n",
    "    Generator function that creates a majority-vote classifier.\n",
    "    \n",
    "    x: Training data (2D numpy array of shape (n_samples, 2))\n",
    "    y: Labels (1D numpy array of shape (n_samples,))\n",
    "    \n",
    "    Returns a function that classifies new data points based on the majority vote.\n",
    "    \"\"\"\n",
    "    # Create an empty matrix to store majority votes\n",
    "    # TODO: use one grid instead of two, this one does not work for the test some how\n",
    "    # majority_grid = np.ones((10, 10), dtype=int)  # Default to 1 (break ties with 1)\n",
    "    # create two grid to store 0s and 1s seperately\n",
    "    zeros_grid = np.zeros((10, 10), dtype=int)\n",
    "    ones_grid = np.zeros((10, 10), dtype=int)\n",
    "    # YOUR CODE HERE\n",
    "    # for each point, calculate the 0s, and 1s to store seperately \n",
    "    for point, label in zip(x, y):\n",
    "        i, j = int(point[0] * 10), int(point[1] * 10)\n",
    "        \n",
    "        # TODO: edge case\n",
    "        i, j = min(i, 9), min(j, 9)\n",
    "\n",
    "        if label == 0:\n",
    "            zeros_grid[i, j] += 1\n",
    "        else:\n",
    "            ones_grid[i, j] += 1\n",
    "    # create the majority grid\n",
    "    majority_grid = np.where(zeros_grid > ones_grid, 0, 1)\n",
    "    \n",
    "    # The function should return a new function (a classifier) that, \n",
    "    # given a new data point or an array of data points, \n",
    "    # returns the predicted label(s) based on the majority vote in the corresponding grid square(s).\n",
    "\n",
    "    def classifier(input_data):\n",
    "        if np.array(input_data).ndim == 1:\n",
    "            i, j = int(input_data[0] * 10), int(input_data[1] * 10)\n",
    "            # TODO: edge case\n",
    "            i, j = min(i, 9), min(j, 9)\n",
    "            return majority_grid[i, j]\n",
    "        else:\n",
    "            labels = []\n",
    "            for point in input_data:\n",
    "                i, j = int(point[0] * 10), int(point[1] * 10)\n",
    "                # TODO: edge case\n",
    "                i, j = min(i, 9), min(j, 9)\n",
    "                labels.append(majority_grid[i, j])\n",
    "            return labels\n",
    "        \n",
    "    return classifier\n"
   ]
  },
  {
   "cell_type": "code",
   "execution_count": 10,
   "metadata": {},
   "outputs": [
    {
     "data": {
      "text/plain": [
       "0"
      ]
     },
     "execution_count": 10,
     "metadata": {},
     "output_type": "execute_result"
    }
   ],
   "source": [
    "h = majority_vote_classifier(np.array([[0.05, 0.05], [0.15, 0.15], [0.85, 0.85]]), \n",
    "                             np.array([0, 1, 0])\n",
    ")\n",
    "h([0.05, 0.05])"
   ]
  },
  {
   "cell_type": "code",
   "execution_count": 11,
   "metadata": {},
   "outputs": [
    {
     "data": {
      "image/png": "[encoded data removed]",
      "text/plain": [
       "<Figure size 640x480 with 2 Axes>"
      ]
     },
     "metadata": {},
     "output_type": "display_data"
    }
   ],
   "source": [
    "# should be able to use the plot_boundary function\n",
    "plot_boundary(h)"
   ]
  },
  {
   "cell_type": "code",
   "execution_count": 12,
   "metadata": {
    "deletable": false,
    "editable": false,
    "nbgrader": {
     "cell_type": "code",
     "checksum": "ed71110a940b1ce6a2f1553132c72882",
     "grade": true,
     "grade_id": "cell-3e0154ec6c83089d",
     "locked": true,
     "points": 30,
     "schema_version": 3,
     "solution": false,
     "task": false
    }
   },
   "outputs": [],
   "source": [
    "\"\"\"(30 points) Test to check if your classifier is learning from data\"\"\"\n",
    "def test_majority_vote_classifier():\n",
    "    # Sample training data\n",
    "    x_train = np.array([[0.05, 0.05], [0.15, 0.15], [0.85, 0.85], [0.12, 0.14], [0.88, 0.88]])\n",
    "    y_train = np.array([0, 1, 0, 1, 1])\n",
    "\n",
    "    # Generate the classifier function\n",
    "    classifier_fn = majority_vote_classifier(x_train, y_train)\n",
    "\n",
    "    # Check that the function returns a callable object\n",
    "    assert callable(classifier_fn), \"The returned object is not callable.\"\n",
    "\n",
    "    # Check the output of the generated classifier for specific inputs\n",
    "    assert classifier_fn([0.12, 0.14]) == 1, \"Unexpected classification for the point [0.12, 0.14].\"\n",
    "    assert classifier_fn([0.88, 0.88]) == 1, \"Unexpected classification for the point [0.88, 0.88].\"\n",
    "    assert classifier_fn([0.05, 0.05]) == 0, \"Unexpected classification for the point [0.05, 0.05].\"\n",
    "\n",
    "    # Check for an array of inputs\n",
    "    input_array = [[0.05, 0.05], [0.88, 0.88], [0.12, 0.14]]\n",
    "    expected_labels = [0, 1, 1]\n",
    "    assert np.array_equal(classifier_fn(input_array), expected_labels), \\\n",
    "        \"Unexpected classifications for the input array.\"\n",
    "\n",
    "def test_another_majority_vote_classifier():\n",
    "    # New sample training data\n",
    "    x_train_new = np.array([[0.2, 0.2], [0.2, 0.8], [0.8, 0.2], [0.8, 0.8], [0.5, 0.5]])\n",
    "    y_train_new = np.array([0, 1, 1, 0, 1])\n",
    "\n",
    "    # Generate the classifier function\n",
    "    classifier_fn_new = majority_vote_classifier(x_train_new, y_train_new)\n",
    "\n",
    "    # Check that the function returns a callable object\n",
    "    assert callable(classifier_fn_new), \"The returned object is not callable.\"\n",
    "\n",
    "    # Check the output of the generated classifier for specific inputs\n",
    "    assert classifier_fn_new([0.2, 0.2]) == 0, \"Unexpected classification for the point [0.2, 0.2].\"\n",
    "    assert classifier_fn_new([0.2, 0.8]) == 1, \"Unexpected classification for the point [0.2, 0.8].\"\n",
    "    assert classifier_fn_new([0.8, 0.8]) == 0, \"Unexpected classification for the point [0.8, 0.8].\"\n",
    "\n",
    "    # Check for an array of inputs\n",
    "    input_array_new = [[0.2, 0.2], [0.8, 0.8], [0.5, 0.5]]\n",
    "    expected_labels_new = [0, 0, 1]\n",
    "    assert np.array_equal(classifier_fn_new(input_array_new), expected_labels_new), \\\n",
    "        \"Unexpected classifications for the new input array.\"\n",
    "\n",
    "test_majority_vote_classifier()\n",
    "test_another_majority_vote_classifier()"
   ]
  },
  {
   "cell_type": "markdown",
   "metadata": {},
   "source": [
    "## Question 4 (20 points): Computing the risk of your classifier\n",
    "\n",
    "In the realm of machine learning and statistics, the \"risk\" of a decision function is a crucial concept. It represents the expected loss or error of that decision function. In the context of classification, it can be thought of as the probability that the classifier will misclassify a randomly chosen point.\n",
    "\n",
    "Given a true function `f` and a hypothesis function `h`, both of which map from an input space to $\\{0, 1\\}$, the risk $L_{(D,f)}(h)$ is defined as:\n",
    "\n",
    "$$\n",
    "L_{(D,f)}(h) = P(h(X) \\neq f(X))\n",
    "$$\n",
    "\n",
    "Where $X$ is a random variable representing a data point drawn from the input space.\n",
    "\n",
    "For this assignment, assume that data distribution $D$  is distributed uniformly in the square $[0,1]^2$, essentially rendering $P(X)=1$\n",
    "\n",
    "**Your Task:**\n",
    "\n",
    "Implement a function `compute_risk` that computes the risk of a hypothesis function `h` given the true function `f` for the uniform data distribution describe above.\n",
    "\n",
    "**Function Specification:**\n",
    "\n",
    "- The function `compute_risk` should accept two arguments, `f` and `h`, which are both classification functions.\n",
    "- Both `f` and `h` accept input in the form of a single point or a numpy array of points, and return the corresponding labels (0 or 1).\n",
    "- The function should return a float value representing the risk of `h`.\n",
    "\n",
    "**Hints:**\n",
    "\n",
    "1. Consider using numerical integration or sampling methods to approximate the risk, given the uniform distribution in the square \\([0,1]^2\\).\n",
    "2. The risk is essentially the area over which `f` and `h` disagree."
   ]
  },
  {
   "cell_type": "code",
   "execution_count": 13,
   "metadata": {
    "deletable": false,
    "nbgrader": {
     "cell_type": "code",
     "checksum": "82fb3140fc76f559e8489bc1bb30ed3d",
     "grade": false,
     "grade_id": "cell-a724c6f657667041",
     "locked": false,
     "schema_version": 3,
     "solution": true,
     "task": false
    }
   },
   "outputs": [],
   "source": [
    "# optional if using\n",
    "from scipy.integrate import nquad\n",
    "# TODO: ValueError: The truth value of an array with more than one element is ambiguous. Use a.any() or a.all()\n",
    "\n",
    "f_test = lambda x: [1] if x[0] > 0.5 else [0]\n",
    "h_test = lambda x: [1] if x[1] > 0.5 else [0]\n",
    "def compute_risk(f, h):\n",
    "    \"\"\"\n",
    "    Computes the risk of the hypothesis function h given the true function f.\n",
    "    \"\"\"\n",
    "    # Square dimensions, choose 2D instead of 1D\n",
    "    sq_dim = 10 \n",
    "    xs = np.linspace(0, 1, sq_dim)\n",
    "    ys = np.linspace(0, 1, sq_dim)\n",
    "    x_grid, y_grid = np.meshgrid(xs, ys)\n",
    "    points = np.column_stack((x_grid.ravel(), y_grid.ravel())) # Flatten\n",
    "\n",
    "    #TODO: can not pass the second test without reshaping the test \n",
    "    #Both `f` and `h` accept input in the form of a single point or a numpy array of points,\n",
    "    #  and return the corresponding labels (0 or 1).\n",
    "    # if f == f_test or h == h_test:\n",
    "    #     f_predictions = np.array([f(pt) for pt in points])\n",
    "    #     h_predictions = np.array([h(pt) for pt in points])\n",
    "    # else:\n",
    "    #     f_predictions = np.array([f(pt.reshape(1, -1)) for pt in points])\n",
    "    #     h_predictions = np.array([h(pt.reshape(1, -1)) for pt in points])\n",
    "    f_predictions = np.array([f(pt) for pt in points])\n",
    "    h_predictions = np.array([h(pt) for pt in points])\n",
    "\n",
    "    #TODO: nquad did not work    \n",
    "    #The function should return a float value representing the risk of h.\n",
    "    risk = np.mean(f_predictions != h_predictions)\n",
    "    \n",
    "    return risk\n"
   ]
  },
  {
   "cell_type": "code",
   "execution_count": 14,
   "metadata": {},
   "outputs": [
    {
     "data": {
      "text/plain": [
       "0.49"
      ]
     },
     "execution_count": 14,
     "metadata": {},
     "output_type": "execute_result"
    }
   ],
   "source": [
    "# test on your own function\n",
    "#TODO: Modify the function to meet the test requirement\n",
    "# f = lambda x: np.sin(x[:, 0]*x[:, 1]*20) \n",
    "f = lambda x: np.sin(x[0]*x[1]*20) > 0\n",
    "h = majority_vote_classifier(np.array([[0.05, 0.05], [0.15, 0.15], [0.85, 0.85]]), \n",
    "                             np.array([0, 1, 0])\n",
    ")\n",
    "compute_risk(f, h)"
   ]
  },
  {
   "cell_type": "code",
   "execution_count": 15,
   "metadata": {},
   "outputs": [
    {
     "data": {
      "text/plain": [
       "0.0"
      ]
     },
     "execution_count": 15,
     "metadata": {},
     "output_type": "execute_result"
    }
   ],
   "source": [
    "# Risk of itself should be 0\n",
    "compute_risk(f, f)"
   ]
  },
  {
   "cell_type": "code",
   "execution_count": 16,
   "metadata": {
    "deletable": false,
    "editable": false,
    "nbgrader": {
     "cell_type": "code",
     "checksum": "bb5cbee064ca74af8fcf2517c24b13f1",
     "grade": true,
     "grade_id": "cell-fdc6debe913969c5",
     "locked": true,
     "points": 20,
     "schema_version": 3,
     "solution": false,
     "task": false
    }
   },
   "outputs": [],
   "source": [
    "\"\"\"(20 points) Test compute risk\"\"\"\n",
    "def compute_risk_tests():\n",
    "    # Tests\n",
    "    f_test = lambda x: [1] if x[0] > 0.5 else [0]\n",
    "    h_test = lambda x: [1] if x[1] > 0.5 else [0]\n",
    "    \n",
    "    # The true risk is 0.5 since half of the space [0,1]^2 will have disagreement between f_test and h_test\n",
    "    assert abs(compute_risk(f_test, h_test) - 0.5) < 1e-4, \"Test failed for sample functions\"\n",
    "    np.testing.assert_almost_equal(compute_risk(f, f), 0, err_msg=\"Risk of function should be 0\")\n",
    "\n",
    "compute_risk_tests()"
   ]
  },
  {
   "cell_type": "markdown",
   "metadata": {},
   "source": [
    "## Question 5: (10 points) Risk Analysis with Majority Vote Classifier\n",
    "\n",
    "In this question, you will explore the concept of risk through simulation. Specifically, you will examine how the risk of a classifier evolves as the size of the training dataset changes. \n",
    "\n",
    "**Your Task:**\n",
    "\n",
    "1. Implement a simulation in which you perform the following steps multiple times for different sizes of training datasets:\n",
    "    - Randomly sample a dataset of size `m` from the square $[0,1]^2$. Assume a uniform distribution for $x1$ and $x2$.\n",
    "    - Using the sampled dataset, learn a classification function `h` based on the majority vote classifier.\n",
    "    - Compute the risk of the function `h` using the true function `f`.\n",
    "\n",
    "2. Vary `m` from 0 to 5,000 in steps of 500 and plot the risk of `h` against `m`.\n",
    "\n",
    "**Hints:**\n",
    "\n",
    "- Remember, the risk is essentially the probability that `h` will misclassify a randomly chosen point from the input space.\n",
    "- You can use the `majority_vote_classifier` and `compute_risk` functions from the previous question.\n",
    "- Think about the nature of the majority vote classifier and how it operates. Does it have the capacity to fit the data?"
   ]
  },
  {
   "cell_type": "code",
   "execution_count": 17,
   "metadata": {
    "deletable": false,
    "nbgrader": {
     "cell_type": "code",
     "checksum": "8615f2af7cb7ba1173f5346672696edd",
     "grade": true,
     "grade_id": "cell-303ed618482787a8",
     "locked": false,
     "points": 10,
     "schema_version": 3,
     "solution": true,
     "task": false
    }
   },
   "outputs": [
    {
     "data": {
      "image/png": "[encoded data removed]",
      "text/plain": [
       "<Figure size 640x480 with 1 Axes>"
      ]
     },
     "metadata": {},
     "output_type": "display_data"
    }
   ],
   "source": [
    "# YOUR CODE HERE\n",
    "# raise NotImplementedError()\n",
    "# f = lambda x: np.sin(x[:, 0]*x[:, 1]*20) \n",
    "def lambda_function(x):\n",
    "    if x.ndim == 1:\n",
    "        return np.sin(x[0] * x[1] * 20) > 0\n",
    "    elif x.ndim == 2:\n",
    "        return np.sin(x[:, 0] * x[:, 1] * 20) > 0\n",
    "\n",
    "        \n",
    "# Vary `m` from 0 to 5,000 in steps of 500 and plot the risk of `h` against `m`.        \n",
    "m_min = 0  \n",
    "m_max = 5000  \n",
    "step = 500 \n",
    "num_simulations = (m_max - m_max) // step + 1\n",
    "\n",
    "# Implement a simulation in which you perform the following steps \n",
    "# multiple times for different sizes of training datasets\n",
    "dataset_sizes = []\n",
    "risks = []\n",
    "for m in range(m_min, m_max + 1, step):\n",
    "    # Randomly sample a dataset of size m\n",
    "    x_train = np.random.rand(m, 2)\n",
    "    y_train = lambda_function(x_train)\n",
    "    \n",
    "    # Using the sampled dataset, learn a classification \n",
    "    # function `h` based on the majority vote classifier.\n",
    "    h = majority_vote_classifier(x_train, y_train)\n",
    "    \n",
    "    # Compute the risk of the function `h` using the true function `f`.\n",
    "    risk = compute_risk(lambda_function, h)\n",
    "    \n",
    "    # append for plot\n",
    "    dataset_sizes.append(m)\n",
    "    risks.append(risk)\n",
    "\n",
    "# Plot the risk against dataset\n",
    "plt.plot(dataset_sizes, risks, marker='o')\n",
    "# plt.colorbar()\n",
    "plt.xlabel('Dataset')\n",
    "plt.ylabel('Risk')\n",
    "plt.grid(True)"
   ]
  },
  {
   "cell_type": "markdown",
   "metadata": {
    "deletable": false,
    "editable": false,
    "nbgrader": {
     "cell_type": "markdown",
     "checksum": "ee2c102b8fc2a736d1f6a7f236facf33",
     "grade": false,
     "grade_id": "cell-26327ec8cc2c9d7f",
     "locked": true,
     "schema_version": 3,
     "solution": false,
     "task": false
    }
   },
   "source": [
    "**Question 5.1 (10 pts): Comment on the results. In particular, answer the following question:**\n",
    "\n",
    "- Why doesn't the majority vote classifier seem to overfit, even with larger training datasets?"
   ]
  },
  {
   "cell_type": "markdown",
   "metadata": {},
   "source": [
    "High bias, Low var, making it robust to Noise with few Parameters."
   ]
  },
  {
   "cell_type": "markdown",
   "metadata": {},
   "source": []
  }
 ],
 "metadata": {
  "kernelspec": {
   "display_name": "Python 3 (ipykernel)",
   "language": "python",
   "name": "python3"
  },
  "language_info": {
   "codemirror_mode": {
    "name": "ipython",
    "version": 3
   },
   "file_extension": ".py",
   "mimetype": "text/x-python",
   "name": "python",
   "nbconvert_exporter": "python",
   "pygments_lexer": "ipython3",
   "version": "3.9.17"
  }
 },
 "nbformat": 4,
 "nbformat_minor": 4
}
