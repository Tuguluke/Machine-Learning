{
 "cells": [
  {
   "cell_type": "markdown",
   "id": "7ee1a270",
   "metadata": {},
   "source": [
    "# CSCI 5622: Machine Learning\n",
    "## Fall 2023\n",
    "### Instructor: Daniel Acuna, Associate Professor, Department of Computer Science, University of Colorado at Boulder"
   ]
  },
  {
   "cell_type": "markdown",
   "id": "e56e549a",
   "metadata": {},
   "source": [
    "Before you turn this problem in, make sure everything runs as expected. First, **restart the kernel** (in the menubar, select Kernel$\\rightarrow$Restart) and then **run all cells** (in the menubar, select Cell$\\rightarrow$Run All).\n",
    "\n",
    "Make sure you fill in any place that says `YOUR CODE HERE` or \"YOUR ANSWER HERE\", as well as your name and collaborators below:"
   ]
  },
  {
   "cell_type": "code",
   "execution_count": 1,
   "id": "539a77f6",
   "metadata": {},
   "outputs": [],
   "source": [
    "NAME = \"Luk Letif\"\n",
    "COLLABORATORS = \"\""
   ]
  },
  {
   "cell_type": "markdown",
   "id": "3f02c08f",
   "metadata": {},
   "source": [
    "---"
   ]
  },
  {
   "cell_type": "code",
   "execution_count": 2,
   "id": "8cd6a186-2476-49e0-8fb5-f21f8f3177bf",
   "metadata": {
    "deletable": false,
    "editable": false,
    "nbgrader": {
     "cell_type": "code",
     "checksum": "a3404bd56d3fda24286aab56807d28dd",
     "grade": false,
     "grade_id": "cell-a05ccabca6f911cc",
     "locked": true,
     "schema_version": 3,
     "solution": false,
     "task": false
    }
   },
   "outputs": [],
   "source": [
    "# Necessary imports\n",
    "import matplotlib.pyplot as plt\n",
    "import numpy as np\n",
    "import sklearn"
   ]
  },
  {
   "cell_type": "code",
   "execution_count": 3,
   "id": "a97bcd4b-683e-4952-841f-ec0e0c26af90",
   "metadata": {
    "deletable": false,
    "editable": false,
    "nbgrader": {
     "cell_type": "code",
     "checksum": "c609515f59bedca81b1fafc2003b604c",
     "grade": false,
     "grade_id": "cell-f5677b63d6a5f664",
     "locked": true,
     "schema_version": 3,
     "solution": false,
     "task": false
    }
   },
   "outputs": [],
   "source": [
    "from sklearn.datasets import make_classification\n",
    "\n",
    "# Generating synthetic dataset of cancer\n",
    "X, y = make_classification(n_samples=10_000,     # Number of samples\n",
    "                           n_features=10,      # Total number of features\n",
    "                           n_informative=5,    # Number of informative features\n",
    "                           n_redundant=3,      # Number of redundant features\n",
    "                           n_clusters_per_class=1, # Number of clusters per class\n",
    "                           weights=[0.9, 0.1], # Balanced classes\n",
    "                           flip_y=0.05,        # Adds a bit of noise\n",
    "                           class_sep=0.8,      # Make classes slightly separable\n",
    "                           random_state=42)    # Seed for reproducibility\n",
    "# binary data\n",
    "X = (X > 0).astype(int)"
   ]
  },
  {
   "cell_type": "markdown",
   "id": "e3876c16-5514-4d4c-a141-04d6aa83a9fc",
   "metadata": {},
   "source": [
    "# Part 2: Classification with Naive Bayes"
   ]
  },
  {
   "cell_type": "markdown",
   "id": "2c28afba-9e63-4e03-a81d-b54901c780d0",
   "metadata": {},
   "source": [
    "### Introduction to Scikit-Learn\n",
    "\n",
    "**Scikit-learn** is an important machine learning library in Python that we will use througout the semester. It is known for its wide range of algorithms and utilities for almost every standard machine learning task.\n",
    "\n",
    "### Basic Workflow with Scikit-Learn\n",
    "\n",
    "1. **Preparing Data:** (already done above)\n",
    "    - Begin by organizing your data. Typically in machine learning, especially with `scikit-learn`, you'll have input data referred to as `X` and labels referred to as `y`. Here, `X` is a matrix where each row is a sample and each column is a feature. In contrast, `y` is a vector of labels corresponding to each sample.\n",
    "\n",
    "2. **Splitting Data:**\n",
    "    - Divide your dataset into two parts: a training set and a testing set. The training set is used to teach your model, while the testing set is used to evaluate its generalization performance (i.e., risk).\n",
    "\n",
    "3. **Defining the Model:**\n",
    "    - Choose the algorithm that best fits your task. For this assignment, you'll be working with the Bernoulli naive Bayes classifier. In `scikit-learn`, each algorithm is implemented as a class. To use it, you'll first instantiate it, resulting in what's commonly referred to as a model.\n",
    "\n",
    "4. **Training the Model:**\n",
    "    - Once you've chosen a model, the next step is to train it using your training data. This is typically done using a method called `fit()`, where you'll pass in your training data and corresponding labels.\n",
    "\n",
    "5. **Evaluating the Model:**\n",
    "    - After training, you'll want to see how well your model performs. You can achieve this by making predictions on your testing data and comparing those predictions to the actual labels. Many metrics can be used for evaluation, with accuracy being one of the most common for classification tasks.\n",
    "\n",
    "Remember, the key to mastering machine learning and `scikit-learn` is practice. As you experiment with different algorithms and datasets, you'll gain a deeper understanding of the underlying concepts and the nuances of each method."
   ]
  },
  {
   "cell_type": "code",
   "execution_count": 4,
   "id": "a16bfcf6-59c5-4cae-a8fb-d0f1738efabc",
   "metadata": {},
   "outputs": [
    {
     "data": {
      "text/plain": [
       "array([[0, 1, 0, ..., 0, 1, 1],\n",
       "       [1, 1, 1, ..., 0, 1, 0],\n",
       "       [0, 1, 1, ..., 1, 1, 0],\n",
       "       ...,\n",
       "       [0, 1, 0, ..., 1, 1, 0],\n",
       "       [1, 0, 0, ..., 1, 1, 0],\n",
       "       [0, 1, 1, ..., 1, 1, 0]])"
      ]
     },
     "execution_count": 4,
     "metadata": {},
     "output_type": "execute_result"
    }
   ],
   "source": [
    "# the matrix X contains a set of 10 binary markers predictive of a disease y\n",
    "# (this is simulated data)\n",
    "X"
   ]
  },
  {
   "cell_type": "code",
   "execution_count": 5,
   "id": "917b1cc1-7cdb-4460-80c3-5542cc7b6b2c",
   "metadata": {},
   "outputs": [
    {
     "data": {
      "text/plain": [
       "array([0.4104, 0.7192, 0.3411, 0.6876, 0.4409, 0.6346, 0.2661, 0.5054,\n",
       "       0.5074, 0.7181])"
      ]
     },
     "execution_count": 5,
     "metadata": {},
     "output_type": "execute_result"
    }
   ],
   "source": [
    "# prevance of each market\n",
    "X.mean(axis=0)"
   ]
  },
  {
   "cell_type": "code",
   "execution_count": 6,
   "id": "ba79fdf3-5a15-4970-9c98-4b2c2e028286",
   "metadata": {},
   "outputs": [
    {
     "data": {
      "text/plain": [
       "array([0, 0, 0, ..., 0, 0, 0])"
      ]
     },
     "execution_count": 6,
     "metadata": {},
     "output_type": "execute_result"
    }
   ],
   "source": [
    "y"
   ]
  },
  {
   "cell_type": "code",
   "execution_count": 7,
   "id": "6e57f3e1-48fa-4400-ae5b-b3fc236e724d",
   "metadata": {},
   "outputs": [
    {
     "data": {
      "text/plain": [
       "0.1215"
      ]
     },
     "execution_count": 7,
     "metadata": {},
     "output_type": "execute_result"
    }
   ],
   "source": [
    "# most people don't have the disease\n",
    "y.mean()"
   ]
  },
  {
   "cell_type": "markdown",
   "id": "cac1cc25-6e4a-487c-9bb2-615bc31486e6",
   "metadata": {},
   "source": [
    "## Question 1: Splitting Data for Training and Testing\n",
    "\n",
    "Using the synthetic dataset of cancer provided, which simulates binary disease markers, your task is as follows:\n",
    "\n",
    "**Your Task:**\n",
    "\n",
    "1. Split the dataset (`X` and `y`) into two subsets: `X_train`, `X_test` for the features and `y_train`, `y_test` for the labels.\n",
    "2. Ensure a 50-50 split, so both training and testing sets have an equal number of samples.\n",
    "3. The split should be reproducible; set a fixed random seed.\n",
    "4. Once you've split the data, report the number of samples in `X_train`, `X_test`, `y_train`, and `y_test`.\n",
    "\n",
    "**Hints:**\n",
    "\n",
    "- Use the `train_test_split` function from `sklearn.model_selection`.\n",
    "- The `random_state` parameter in `sklearn` functions can set a fixed seed, ensuring reproducibility.\n",
    "\n",
    "**Requirements:**\n",
    "\n",
    "- Store the training features in `X_train`, testing features in `X_test`, training labels in `y_train`, and testing labels in `y_test`."
   ]
  },
  {
   "cell_type": "code",
   "execution_count": 8,
   "id": "8df3ca1d-9a4f-49a1-a14d-662691ad0ab5",
   "metadata": {
    "deletable": false,
    "nbgrader": {
     "cell_type": "code",
     "checksum": "23ea0d8c249a0bcea7ead0404a30dbfc",
     "grade": false,
     "grade_id": "cell-aeeff8ee155a52a6",
     "locked": false,
     "schema_version": 3,
     "solution": true,
     "task": false
    }
   },
   "outputs": [],
   "source": [
    "from sklearn.model_selection import train_test_split\n",
    "\n",
    "# YOUR CODE HERE\n",
    "# raise NotImplementedError()\n",
    "X_train, X_test, y_train, y_test = train_test_split(X, y, test_size=0.5, random_state=42)\n"
   ]
  },
  {
   "cell_type": "code",
   "execution_count": 9,
   "id": "3acc03fb-588d-47d0-9cb6-210412f8fdab",
   "metadata": {
    "deletable": false,
    "editable": false,
    "nbgrader": {
     "cell_type": "code",
     "checksum": "0c880f00481c501e034ae3b8cb168fa5",
     "grade": true,
     "grade_id": "cell-eb8f0f41d9d85d36",
     "locked": true,
     "points": 10,
     "schema_version": 3,
     "solution": false,
     "task": false
    }
   },
   "outputs": [],
   "source": [
    "\"\"\" (10 pts) check that data is correctly defined \"\"\"\n",
    "# Check the size of training data\n",
    "assert X_train.shape[0] == 5000, \"The number of samples in X_train is incorrect.\"\n",
    "assert y_train.shape[0] == 5000, \"The number of samples in y_train is incorrect.\"\n",
    "\n",
    "# Check the size of testing data\n",
    "assert X_test.shape[0] == 5000, \"The number of samples in X_test is incorrect.\"\n",
    "assert y_test.shape[0] == 5000, \"The number of samples in y_test is incorrect.\""
   ]
  },
  {
   "cell_type": "markdown",
   "id": "4ac252ed-0919-43bd-8865-95385ea166d1",
   "metadata": {},
   "source": [
    "## Question 2: Defining and Fitting the Bernoulli Naive Bayes Model**\n",
    "\n",
    "Naive Bayes classifiers are a family of probabilistic classifiers based on Bayes' theorem. The Bernoulli Naive Bayes classifier is particularly suited for binary/boolean features, making it a perfect fit for our dataset with binary disease markers.\n",
    "\n",
    "Your task is to define and fit a Bernoulli Naive Bayes model to the training data you've prepared in the previous question.\n",
    "\n",
    "**Your Task:**\n",
    "\n",
    "1. Define a Bernoulli Naive Bayes classifier.\n",
    "2. Fit the classifier to the training data (`X_train` and `y_train`).\n",
    "3. (Optional) After fitting, check the `class_log_prior_` attribute of the trained model, which represents the logarithm of the probability of each class. This will give you an idea of the distribution of the two classes in the training data.\n",
    "\n",
    "**Hints:**\n",
    "\n",
    "- The `BernoulliNB` class in `sklearn.naive_bayes` is your go-to for defining a Bernoulli Naive Bayes classifier.\n",
    "- Notice that by default, `sklearn` uses a smoothing of 1.\n",
    "- Like other `sklearn` models, the `.fit()` method will be used to train your classifier.\n",
    "- Remember to only fit the model to the training data. The testing data (`X_test` and `y_test`) will be used later for evaluation."
   ]
  },
  {
   "cell_type": "code",
   "execution_count": 10,
   "id": "7ec567f4-9291-4322-bedb-acc6422ae10b",
   "metadata": {
    "deletable": false,
    "nbgrader": {
     "cell_type": "code",
     "checksum": "aff376daba4ba73ffe75c17d403164c7",
     "grade": false,
     "grade_id": "cell-2d3dc13e4a9d4a60",
     "locked": false,
     "schema_version": 3,
     "solution": true,
     "task": false
    }
   },
   "outputs": [
    {
     "data": {
      "text/html": [
       "<style>#sk-container-id-1 {color: black;}#sk-container-id-1 pre{padding: 0;}#sk-container-id-1 div.sk-toggleable {background-color: white;}#sk-container-id-1 label.sk-toggleable__label {cursor: pointer;display: block;width: 100%;margin-bottom: 0;padding: 0.3em;box-sizing: border-box;text-align: center;}#sk-container-id-1 label.sk-toggleable__label-arrow:before {content: \"▸\";float: left;margin-right: 0.25em;color: #696969;}#sk-container-id-1 label.sk-toggleable__label-arrow:hover:before {color: black;}#sk-container-id-1 div.sk-estimator:hover label.sk-toggleable__label-arrow:before {color: black;}#sk-container-id-1 div.sk-toggleable__content {max-height: 0;max-width: 0;overflow: hidden;text-align: left;background-color: #f0f8ff;}#sk-container-id-1 div.sk-toggleable__content pre {margin: 0.2em;color: black;border-radius: 0.25em;background-color: #f0f8ff;}#sk-container-id-1 input.sk-toggleable__control:checked~div.sk-toggleable__content {max-height: 200px;max-width: 100%;overflow: auto;}#sk-container-id-1 input.sk-toggleable__control:checked~label.sk-toggleable__label-arrow:before {content: \"▾\";}#sk-container-id-1 div.sk-estimator input.sk-toggleable__control:checked~label.sk-toggleable__label {background-color: #d4ebff;}#sk-container-id-1 div.sk-label input.sk-toggleable__control:checked~label.sk-toggleable__label {background-color: #d4ebff;}#sk-container-id-1 input.sk-hidden--visually {border: 0;clip: rect(1px 1px 1px 1px);clip: rect(1px, 1px, 1px, 1px);height: 1px;margin: -1px;overflow: hidden;padding: 0;position: absolute;width: 1px;}#sk-container-id-1 div.sk-estimator {font-family: monospace;background-color: #f0f8ff;border: 1px dotted black;border-radius: 0.25em;box-sizing: border-box;margin-bottom: 0.5em;}#sk-container-id-1 div.sk-estimator:hover {background-color: #d4ebff;}#sk-container-id-1 div.sk-parallel-item::after {content: \"\";width: 100%;border-bottom: 1px solid gray;flex-grow: 1;}#sk-container-id-1 div.sk-label:hover label.sk-toggleable__label {background-color: #d4ebff;}#sk-container-id-1 div.sk-serial::before {content: \"\";position: absolute;border-left: 1px solid gray;box-sizing: border-box;top: 0;bottom: 0;left: 50%;z-index: 0;}#sk-container-id-1 div.sk-serial {display: flex;flex-direction: column;align-items: center;background-color: white;padding-right: 0.2em;padding-left: 0.2em;position: relative;}#sk-container-id-1 div.sk-item {position: relative;z-index: 1;}#sk-container-id-1 div.sk-parallel {display: flex;align-items: stretch;justify-content: center;background-color: white;position: relative;}#sk-container-id-1 div.sk-item::before, #sk-container-id-1 div.sk-parallel-item::before {content: \"\";position: absolute;border-left: 1px solid gray;box-sizing: border-box;top: 0;bottom: 0;left: 50%;z-index: -1;}#sk-container-id-1 div.sk-parallel-item {display: flex;flex-direction: column;z-index: 1;position: relative;background-color: white;}#sk-container-id-1 div.sk-parallel-item:first-child::after {align-self: flex-end;width: 50%;}#sk-container-id-1 div.sk-parallel-item:last-child::after {align-self: flex-start;width: 50%;}#sk-container-id-1 div.sk-parallel-item:only-child::after {width: 0;}#sk-container-id-1 div.sk-dashed-wrapped {border: 1px dashed gray;margin: 0 0.4em 0.5em 0.4em;box-sizing: border-box;padding-bottom: 0.4em;background-color: white;}#sk-container-id-1 div.sk-label label {font-family: monospace;font-weight: bold;display: inline-block;line-height: 1.2em;}#sk-container-id-1 div.sk-label-container {text-align: center;}#sk-container-id-1 div.sk-container {/* jupyter's `normalize.less` sets `[hidden] { display: none; }` but bootstrap.min.css set `[hidden] { display: none !important; }` so we also need the `!important` here to be able to override the default hidden behavior on the sphinx rendered scikit-learn.org. See: https://github.com/scikit-learn/scikit-learn/issues/21755 */display: inline-block !important;position: relative;}#sk-container-id-1 div.sk-text-repr-fallback {display: none;}</style><div id=\"sk-container-id-1\" class=\"sk-top-container\"><div class=\"sk-text-repr-fallback\"><pre>BernoulliNB()</pre><b>In a Jupyter environment, please rerun this cell to show the HTML representation or trust the notebook. <br />On GitHub, the HTML representation is unable to render, please try loading this page with nbviewer.org.</b></div><div class=\"sk-container\" hidden><div class=\"sk-item\"><div class=\"sk-estimator sk-toggleable\"><input class=\"sk-toggleable__control sk-hidden--visually\" id=\"sk-estimator-id-1\" type=\"checkbox\" checked><label for=\"sk-estimator-id-1\" class=\"sk-toggleable__label sk-toggleable__label-arrow\">BernoulliNB</label><div class=\"sk-toggleable__content\"><pre>BernoulliNB()</pre></div></div></div></div></div>"
      ],
      "text/plain": [
       "BernoulliNB()"
      ]
     },
     "execution_count": 10,
     "metadata": {},
     "output_type": "execute_result"
    }
   ],
   "source": [
    "from sklearn.naive_bayes import BernoulliNB\n",
    "\n",
    "# Define the Bernoulli Naive Bayes classifier\n",
    "bnb_model = BernoulliNB()\n",
    "\n",
    "# YOUR CODE HERE\n",
    "# raise NotImplementedError()\n",
    "bnb_model.fit(X_train, y_train)\n"
   ]
  },
  {
   "cell_type": "code",
   "execution_count": 11,
   "id": "98322a19-9ec5-429d-9069-c62c7c765738",
   "metadata": {
    "deletable": false,
    "editable": false,
    "nbgrader": {
     "cell_type": "code",
     "checksum": "42cd0d5b786ebf8419a44bfcf01e6b4b",
     "grade": true,
     "grade_id": "cell-f0ef008ffb77d8ad",
     "locked": true,
     "points": 10,
     "schema_version": 3,
     "solution": false,
     "task": false
    }
   },
   "outputs": [],
   "source": [
    "\"\"\" (10 pts) simple checks \"\"\"\n",
    "# Check that bnb_model is an instance of BernoulliNB\n",
    "assert isinstance(bnb_model, BernoulliNB), \\\n",
    "    \"bnb_model is not an instance of BernoulliNB.\"\n",
    "\n",
    "# Check that bnb_model has been fitted\n",
    "# One way to check this is by ensuring that attributes available after fitting are present\n",
    "assert hasattr(bnb_model, \"class_log_prior_\"), \\\n",
    "    \"bnb_model does not seem to be fitted.\"\n",
    "\n",
    "# Optionally, check that the model has been fitted with the right data size\n",
    "assert bnb_model.class_count_.sum() == 5000, \\\n",
    "    \"bnb_model doesn't seem to be fitted with the correct number of samples.\""
   ]
  },
  {
   "cell_type": "markdown",
   "id": "d2dcacb5-3244-4829-9c05-7091f34b766c",
   "metadata": {},
   "source": [
    "## Question 3: (10 pts) Evaluating the Bernoulli Naive Bayes Model**\n",
    "\n",
    "Now that you've trained a Bernoulli Naive Bayes classifier, the next step is to evaluate its performance on the test data. Evaluating a model is crucial to understand how well it might perform on unseen real-world data.\n",
    "\n",
    "**Your Task:**\n",
    "\n",
    "1. Use your trained Bernoulli Naive Bayes model, `bnb_model`, to predict the labels of the test data (`X_test`).\n",
    "2. Calculate the accuracy of the model's predictions against the true labels (`y_test`).\n",
    "3. Report the calculated accuracy.\n",
    "\n",
    "**Hints:**\n",
    "\n",
    "- `sklearn` provides a convenient function, `accuracy_score`, in the `sklearn.metrics` module to compute the accuracy of predictions.\n",
    "- Remember the general workflow: Use the `.predict()` method on your trained model to get predictions and then compare these predictions to the true labels to evaluate accuracy.\n",
    "  \n",
    "**Requirements:**\n",
    "\n",
    "- Store your predictions in a variable named `y_pred`.\n",
    "- Compute and report the accuracy of your model on the test data and store in the variable `accuracy`"
   ]
  },
  {
   "cell_type": "code",
   "execution_count": 12,
   "id": "845a9add-f6d1-4bb5-84eb-d21aca3c7aa1",
   "metadata": {
    "deletable": false,
    "nbgrader": {
     "cell_type": "code",
     "checksum": "98f25ac40ee76d98177aa9d424b780f3",
     "grade": false,
     "grade_id": "cell-482c41ccf69e99e8",
     "locked": false,
     "schema_version": 3,
     "solution": true,
     "task": false
    }
   },
   "outputs": [
    {
     "name": "stdout",
     "output_type": "stream",
     "text": [
      "Accuracy of the Bernoulli Naive Bayes model on the test data: 84.48%\n"
     ]
    }
   ],
   "source": [
    "from sklearn.metrics import accuracy_score\n",
    "\n",
    "# YOUR CODE HERE\n",
    "# raise NotImplementedError()\n",
    "y_pred = bnb_model.predict(X_test)\n",
    "\n",
    "accuracy = accuracy_score(y_test, y_pred)\n",
    "\n",
    "# Report the calculated accuracy\n",
    "print(f\"Accuracy of the Bernoulli Naive Bayes model on the test data: {accuracy * 100:.2f}%\")"
   ]
  },
  {
   "cell_type": "code",
   "execution_count": 13,
   "id": "0dc80816-b00c-4df4-ad76-ff93a41043ce",
   "metadata": {
    "deletable": false,
    "editable": false,
    "nbgrader": {
     "cell_type": "code",
     "checksum": "40e7cadfb621b36cfd48a20e5b7b72eb",
     "grade": true,
     "grade_id": "cell-71118731653b221c",
     "locked": true,
     "points": 10,
     "schema_version": 3,
     "solution": false,
     "task": false
    }
   },
   "outputs": [],
   "source": [
    "\"\"\" (10 pts) Simple test \"\"\"\n",
    "# Check if y_pred is correctly defined\n",
    "assert 'y_pred' in locals(), \"y_pred is not defined.\"\n",
    "assert len(y_pred) == 5000, \"The length of y_pred is not correct.\"\n",
    "\n",
    "# Check if the predictions are in the right range\n",
    "assert set(y_pred).issubset({0, 1}), \"y_pred contains values other than 0 or 1.\"\n"
   ]
  },
  {
   "cell_type": "code",
   "execution_count": null,
   "id": "04c1a0b6",
   "metadata": {},
   "outputs": [],
   "source": []
  }
 ],
 "metadata": {
  "kernelspec": {
   "display_name": "Python 3 (ipykernel)",
   "language": "python",
   "name": "python3"
  },
  "language_info": {
   "codemirror_mode": {
    "name": "ipython",
    "version": 3
   },
   "file_extension": ".py",
   "mimetype": "text/x-python",
   "name": "python",
   "nbconvert_exporter": "python",
   "pygments_lexer": "ipython3",
   "version": "3.9.17"
  }
 },
 "nbformat": 4,
 "nbformat_minor": 5
}
